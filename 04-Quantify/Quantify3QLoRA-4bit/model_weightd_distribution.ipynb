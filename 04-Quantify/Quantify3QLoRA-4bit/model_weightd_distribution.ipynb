{
 "cells": [
  {
   "cell_type": "markdown",
   "metadata": {},
   "source": [
    "## 画模型权重分布图"
   ]
  },
  {
   "cell_type": "code",
   "execution_count": 1,
   "metadata": {},
   "outputs": [
    {
     "name": "stderr",
     "output_type": "stream",
     "text": [
      "/node6_1/tanshuai/.conda/envs/abc/lib/python3.9/site-packages/tqdm/auto.py:21: TqdmWarning: IProgress not found. Please update jupyter and ipywidgets. See https://ipywidgets.readthedocs.io/en/stable/user_install.html\n",
      "  from .autonotebook import tqdm as notebook_tqdm\n"
     ]
    }
   ],
   "source": [
    "import torch\n",
    "from transformers import AutoModelForCausalLM"
   ]
  },
  {
   "cell_type": "code",
   "execution_count": 2,
   "metadata": {},
   "outputs": [
    {
     "name": "stderr",
     "output_type": "stream",
     "text": [
      "Loading checkpoint shards: 100%|██████████| 7/7 [00:01<00:00,  5.08it/s]\n"
     ]
    }
   ],
   "source": [
    "model = AutoModelForCausalLM.from_pretrained(\"/node6_1/tanshuai/ZhipuAI/chatglm3-6b-base\", trust_remote_code=True, low_cpu_mem_usage=True)\n",
    "# model = AutoModelForCausalLM.from_pretrained(\"/node6_1/tanshuai/modelscope/Llama-2-7b-ms\", low_cpu_mem_usage=True)"
   ]
  },
  {
   "cell_type": "code",
   "execution_count": 3,
   "metadata": {},
   "outputs": [],
   "source": [
    "def get_weights(model):\n",
    "    weights = []\n",
    "    for param in model.parameters():\n",
    "        weights.append(param.view(-1))  # 将每个展平后的参数（即一维张量）添加到weights列表中\n",
    "    return torch.cat(weights)  # 将weights列表中所有一维张量拼接（concatenate）成一个大的单一张量"
   ]
  },
  {
   "cell_type": "code",
   "execution_count": 4,
   "metadata": {},
   "outputs": [],
   "source": [
    "weights = get_weights(model)"
   ]
  },
  {
   "cell_type": "code",
   "execution_count": null,
   "metadata": {},
   "outputs": [
    {
     "data": {
      "text/plain": [
       "torch.float16"
      ]
     },
     "execution_count": 5,
     "metadata": {},
     "output_type": "execute_result"
    }
   ],
   "source": [
    "# chatglm3参数类型float32，llama2参数类型float16\n",
    "weights.dtype"
   ]
  },
  {
   "cell_type": "code",
   "execution_count": 6,
   "metadata": {},
   "outputs": [
    {
     "data": {
      "text/plain": [
       "torch.float32"
      ]
     },
     "execution_count": 6,
     "metadata": {},
     "output_type": "execute_result"
    }
   ],
   "source": [
    "weights.float().dtype  # .float()将张量的数据类型转换为float32"
   ]
  },
  {
   "cell_type": "code",
   "execution_count": 8,
   "metadata": {},
   "outputs": [],
   "source": [
    "# 数据会被分为 200 个小区间\n",
    "# range=(-0.1, 0.1) 设置了直方图的计算范围，表示你关心的 weights 数据值的范围是从 -0.1 到 0.1\n",
    "hist = torch.histogram(weights.float(), bins=200, range=(-0.1, 0.1))\n",
    "# 返回的是一个包含两个元素的元组：\n",
    "# 第一个元素 是每个 bin 中的频数（即该区间内的元素个数）\n",
    "# 第二个元素 是每个 bin 的边界（即每个区间的左边界和右边界）"
   ]
  },
  {
   "cell_type": "code",
   "execution_count": 9,
   "metadata": {},
   "outputs": [
    {
     "data": {
      "text/plain": [
       "(torch.Size([200]), torch.Size([201]))"
      ]
     },
     "execution_count": 9,
     "metadata": {},
     "output_type": "execute_result"
    }
   ],
   "source": [
    "hist[0].shape, hist[1].shape"
   ]
  },
  {
   "cell_type": "code",
   "execution_count": 9,
   "metadata": {},
   "outputs": [
    {
     "data": {
      "text/plain": [
       "torch.return_types.histogram(\n",
       "hist=tensor([1.1834e+04, 1.2638e+04, 1.3923e+04, 1.4936e+04, 1.6178e+04, 1.7791e+04,\n",
       "        1.9224e+04, 2.0962e+04, 2.3174e+04, 2.5098e+04, 2.7669e+04, 3.0698e+04,\n",
       "        3.4044e+04, 3.7414e+04, 4.2058e+04, 4.6247e+04, 8.0139e+04, 6.1523e+04,\n",
       "        6.9235e+04, 7.7600e+04, 8.7284e+04, 9.9374e+04, 1.1247e+05, 1.2727e+05,\n",
       "        1.4439e+05, 1.6528e+05, 1.8832e+05, 2.1393e+05, 2.4554e+05, 2.8072e+05,\n",
       "        3.2181e+05, 3.6792e+05, 4.2236e+05, 4.8441e+05, 5.5204e+05, 6.3381e+05,\n",
       "        7.2561e+05, 1.1739e+06, 1.0021e+06, 1.1461e+06, 1.3087e+06, 1.4924e+06,\n",
       "        1.7055e+06, 1.9433e+06, 2.2090e+06, 2.5128e+06, 2.8552e+06, 4.1026e+06,\n",
       "        3.7735e+06, 4.2667e+06, 4.8180e+06, 5.4237e+06, 6.0994e+06, 6.8457e+06,\n",
       "        7.6692e+06, 8.5843e+06, 9.5804e+06, 1.0681e+07, 1.5047e+07, 1.3523e+07,\n",
       "        1.4974e+07, 1.6548e+07, 1.8244e+07, 2.0095e+07, 2.2053e+07, 2.4168e+07,\n",
       "        2.6418e+07, 2.8815e+07, 3.7544e+07, 3.4602e+07, 3.7486e+07, 4.0495e+07,\n",
       "        4.3664e+07, 5.3062e+07, 5.0832e+07, 5.4411e+07, 5.8086e+07, 6.1871e+07,\n",
       "        6.5732e+07, 7.8643e+07, 7.4169e+07, 7.8193e+07, 8.2245e+07, 8.6297e+07,\n",
       "        9.8981e+07, 9.4630e+07, 1.0477e+08, 1.0246e+08, 1.0608e+08, 1.1649e+08,\n",
       "        1.1300e+08, 1.1605e+08, 1.2446e+08, 1.2533e+08, 1.2768e+08, 1.2577e+08,\n",
       "        1.3239e+08, 1.3080e+08, 1.3372e+08, 1.3623e+08, 1.3627e+08, 1.3372e+08,\n",
       "        1.3082e+08, 1.3241e+08, 1.2580e+08, 1.2774e+08, 1.2533e+08, 1.2450e+08,\n",
       "        1.1607e+08, 1.1302e+08, 1.1653e+08, 1.0611e+08, 1.0250e+08, 1.0480e+08,\n",
       "        9.4635e+07, 9.8988e+07, 8.6314e+07, 8.2277e+07, 7.8227e+07, 7.4198e+07,\n",
       "        7.8675e+07, 6.5758e+07, 6.1892e+07, 5.8104e+07, 5.4410e+07, 5.0853e+07,\n",
       "        5.3079e+07, 4.3663e+07, 4.0497e+07, 3.7474e+07, 3.4601e+07, 3.7549e+07,\n",
       "        2.8820e+07, 2.6418e+07, 2.4166e+07, 2.2059e+07, 2.0084e+07, 1.8254e+07,\n",
       "        1.6554e+07, 1.4979e+07, 1.3529e+07, 1.5040e+07, 1.0677e+07, 9.5794e+06,\n",
       "        8.5871e+06, 7.6670e+06, 6.8426e+06, 6.0973e+06, 5.4206e+06, 4.8161e+06,\n",
       "        4.2697e+06, 3.7737e+06, 4.1076e+06, 2.8526e+06, 2.5127e+06, 2.2094e+06,\n",
       "        1.9406e+06, 1.7034e+06, 1.4939e+06, 1.3083e+06, 1.1450e+06, 9.9997e+05,\n",
       "        1.1720e+06, 7.2743e+05, 6.3230e+05, 5.5309e+05, 4.8091e+05, 4.2120e+05,\n",
       "        3.6715e+05, 3.2210e+05, 2.8043e+05, 2.4610e+05, 2.1486e+05, 1.8870e+05,\n",
       "        1.6515e+05, 1.4500e+05, 1.2684e+05, 1.1216e+05, 9.8803e+04, 8.6946e+04,\n",
       "        7.7545e+04, 6.8424e+04, 6.1273e+04, 7.9955e+04, 4.6104e+04, 4.1800e+04,\n",
       "        3.7368e+04, 3.3895e+04, 3.0600e+04, 2.7710e+04, 2.5282e+04, 2.2984e+04,\n",
       "        2.0767e+04, 1.9242e+04, 1.7627e+04, 1.6096e+04, 1.4945e+04, 1.3810e+04,\n",
       "        1.2768e+04, 1.1841e+04], grad_fn=<NotImplemented>),\n",
       "bin_edges=tensor([-1.0000e-01, -9.9000e-02, -9.8000e-02, -9.7000e-02, -9.6000e-02,\n",
       "        -9.5000e-02, -9.4000e-02, -9.3000e-02, -9.2000e-02, -9.1000e-02,\n",
       "        -9.0000e-02, -8.9000e-02, -8.8000e-02, -8.7000e-02, -8.6000e-02,\n",
       "        -8.5000e-02, -8.4000e-02, -8.3000e-02, -8.2000e-02, -8.1000e-02,\n",
       "        -8.0000e-02, -7.9000e-02, -7.8000e-02, -7.7000e-02, -7.6000e-02,\n",
       "        -7.5000e-02, -7.4000e-02, -7.3000e-02, -7.2000e-02, -7.1000e-02,\n",
       "        -7.0000e-02, -6.9000e-02, -6.8000e-02, -6.7000e-02, -6.6000e-02,\n",
       "        -6.5000e-02, -6.4000e-02, -6.3000e-02, -6.2000e-02, -6.1000e-02,\n",
       "        -6.0000e-02, -5.9000e-02, -5.8000e-02, -5.7000e-02, -5.6000e-02,\n",
       "        -5.5000e-02, -5.4000e-02, -5.3000e-02, -5.2000e-02, -5.1000e-02,\n",
       "        -5.0000e-02, -4.9000e-02, -4.8000e-02, -4.7000e-02, -4.6000e-02,\n",
       "        -4.5000e-02, -4.4000e-02, -4.3000e-02, -4.2000e-02, -4.1000e-02,\n",
       "        -4.0000e-02, -3.9000e-02, -3.8000e-02, -3.7000e-02, -3.6000e-02,\n",
       "        -3.5000e-02, -3.4000e-02, -3.3000e-02, -3.2000e-02, -3.1000e-02,\n",
       "        -3.0000e-02, -2.9000e-02, -2.8000e-02, -2.7000e-02, -2.6000e-02,\n",
       "        -2.5000e-02, -2.4000e-02, -2.3000e-02, -2.2000e-02, -2.1000e-02,\n",
       "        -2.0000e-02, -1.9000e-02, -1.8000e-02, -1.7000e-02, -1.6000e-02,\n",
       "        -1.5000e-02, -1.4000e-02, -1.3000e-02, -1.2000e-02, -1.1000e-02,\n",
       "        -1.0000e-02, -9.0000e-03, -8.0000e-03, -7.0000e-03, -6.0000e-03,\n",
       "        -5.0000e-03, -4.0000e-03, -3.0000e-03, -2.0000e-03, -1.0000e-03,\n",
       "        -3.2596e-09,  1.0000e-03,  2.0000e-03,  3.0000e-03,  4.0000e-03,\n",
       "         5.0000e-03,  6.0000e-03,  7.0000e-03,  8.0000e-03,  9.0000e-03,\n",
       "         1.0000e-02,  1.1000e-02,  1.2000e-02,  1.3000e-02,  1.4000e-02,\n",
       "         1.5000e-02,  1.6000e-02,  1.7000e-02,  1.8000e-02,  1.9000e-02,\n",
       "         2.0000e-02,  2.1000e-02,  2.2000e-02,  2.3000e-02,  2.4000e-02,\n",
       "         2.5000e-02,  2.6000e-02,  2.7000e-02,  2.8000e-02,  2.9000e-02,\n",
       "         3.0000e-02,  3.1000e-02,  3.2000e-02,  3.3000e-02,  3.4000e-02,\n",
       "         3.5000e-02,  3.6000e-02,  3.7000e-02,  3.8000e-02,  3.9000e-02,\n",
       "         4.0000e-02,  4.1000e-02,  4.2000e-02,  4.3000e-02,  4.4000e-02,\n",
       "         4.5000e-02,  4.6000e-02,  4.7000e-02,  4.8000e-02,  4.9000e-02,\n",
       "         5.0000e-02,  5.1000e-02,  5.2000e-02,  5.3000e-02,  5.4000e-02,\n",
       "         5.5000e-02,  5.6000e-02,  5.7000e-02,  5.8000e-02,  5.9000e-02,\n",
       "         6.0000e-02,  6.1000e-02,  6.2000e-02,  6.3000e-02,  6.4000e-02,\n",
       "         6.5000e-02,  6.6000e-02,  6.7000e-02,  6.8000e-02,  6.9000e-02,\n",
       "         7.0000e-02,  7.1000e-02,  7.2000e-02,  7.3000e-02,  7.4000e-02,\n",
       "         7.5000e-02,  7.6000e-02,  7.7000e-02,  7.8000e-02,  7.9000e-02,\n",
       "         8.0000e-02,  8.1000e-02,  8.2000e-02,  8.3000e-02,  8.4000e-02,\n",
       "         8.5000e-02,  8.6000e-02,  8.7000e-02,  8.8000e-02,  8.9000e-02,\n",
       "         9.0000e-02,  9.1000e-02,  9.2000e-02,  9.3000e-02,  9.4000e-02,\n",
       "         9.5000e-02,  9.6000e-02,  9.7000e-02,  9.8000e-02,  9.9000e-02,\n",
       "         1.0000e-01], grad_fn=<NotImplemented>))"
      ]
     },
     "execution_count": 9,
     "metadata": {},
     "output_type": "execute_result"
    }
   ],
   "source": [
    "hist"
   ]
  },
  {
   "cell_type": "code",
   "execution_count": 10,
   "metadata": {},
   "outputs": [
    {
     "data": {
      "text/plain": [
       "(tensor([1.1834e+04, 1.2638e+04, 1.3923e+04, 1.4936e+04, 1.6178e+04, 1.7791e+04,\n",
       "         1.9224e+04, 2.0962e+04, 2.3174e+04, 2.5098e+04, 2.7669e+04, 3.0698e+04,\n",
       "         3.4044e+04, 3.7414e+04, 4.2058e+04, 4.6247e+04, 8.0139e+04, 6.1523e+04,\n",
       "         6.9235e+04, 7.7600e+04, 8.7284e+04, 9.9374e+04, 1.1247e+05, 1.2727e+05,\n",
       "         1.4439e+05, 1.6528e+05, 1.8832e+05, 2.1393e+05, 2.4554e+05, 2.8072e+05,\n",
       "         3.2181e+05, 3.6792e+05, 4.2236e+05, 4.8441e+05, 5.5204e+05, 6.3381e+05,\n",
       "         7.2561e+05, 1.1739e+06, 1.0021e+06, 1.1461e+06, 1.3087e+06, 1.4924e+06,\n",
       "         1.7055e+06, 1.9433e+06, 2.2090e+06, 2.5128e+06, 2.8552e+06, 4.1026e+06,\n",
       "         3.7735e+06, 4.2667e+06, 4.8180e+06, 5.4237e+06, 6.0994e+06, 6.8457e+06,\n",
       "         7.6692e+06, 8.5843e+06, 9.5804e+06, 1.0681e+07, 1.5047e+07, 1.3523e+07,\n",
       "         1.4974e+07, 1.6548e+07, 1.8244e+07, 2.0095e+07, 2.2053e+07, 2.4168e+07,\n",
       "         2.6418e+07, 2.8815e+07, 3.7544e+07, 3.4602e+07, 3.7486e+07, 4.0495e+07,\n",
       "         4.3664e+07, 5.3062e+07, 5.0832e+07, 5.4411e+07, 5.8086e+07, 6.1871e+07,\n",
       "         6.5732e+07, 7.8643e+07, 7.4169e+07, 7.8193e+07, 8.2245e+07, 8.6297e+07,\n",
       "         9.8981e+07, 9.4630e+07, 1.0477e+08, 1.0246e+08, 1.0608e+08, 1.1649e+08,\n",
       "         1.1300e+08, 1.1605e+08, 1.2446e+08, 1.2533e+08, 1.2768e+08, 1.2577e+08,\n",
       "         1.3239e+08, 1.3080e+08, 1.3372e+08, 1.3623e+08, 1.3627e+08, 1.3372e+08,\n",
       "         1.3082e+08, 1.3241e+08, 1.2580e+08, 1.2774e+08, 1.2533e+08, 1.2450e+08,\n",
       "         1.1607e+08, 1.1302e+08, 1.1653e+08, 1.0611e+08, 1.0250e+08, 1.0480e+08,\n",
       "         9.4635e+07, 9.8988e+07, 8.6314e+07, 8.2277e+07, 7.8227e+07, 7.4198e+07,\n",
       "         7.8675e+07, 6.5758e+07, 6.1892e+07, 5.8104e+07, 5.4410e+07, 5.0853e+07,\n",
       "         5.3079e+07, 4.3663e+07, 4.0497e+07, 3.7474e+07, 3.4601e+07, 3.7549e+07,\n",
       "         2.8820e+07, 2.6418e+07, 2.4166e+07, 2.2059e+07, 2.0084e+07, 1.8254e+07,\n",
       "         1.6554e+07, 1.4979e+07, 1.3529e+07, 1.5040e+07, 1.0677e+07, 9.5794e+06,\n",
       "         8.5871e+06, 7.6670e+06, 6.8426e+06, 6.0973e+06, 5.4206e+06, 4.8161e+06,\n",
       "         4.2697e+06, 3.7737e+06, 4.1076e+06, 2.8526e+06, 2.5127e+06, 2.2094e+06,\n",
       "         1.9406e+06, 1.7034e+06, 1.4939e+06, 1.3083e+06, 1.1450e+06, 9.9997e+05,\n",
       "         1.1720e+06, 7.2743e+05, 6.3230e+05, 5.5309e+05, 4.8091e+05, 4.2120e+05,\n",
       "         3.6715e+05, 3.2210e+05, 2.8043e+05, 2.4610e+05, 2.1486e+05, 1.8870e+05,\n",
       "         1.6515e+05, 1.4500e+05, 1.2684e+05, 1.1216e+05, 9.8803e+04, 8.6946e+04,\n",
       "         7.7545e+04, 6.8424e+04, 6.1273e+04, 7.9955e+04, 4.6104e+04, 4.1800e+04,\n",
       "         3.7368e+04, 3.3895e+04, 3.0600e+04, 2.7710e+04, 2.5282e+04, 2.2984e+04,\n",
       "         2.0767e+04, 1.9242e+04, 1.7627e+04, 1.6096e+04, 1.4945e+04, 1.3810e+04,\n",
       "         1.2768e+04, 1.1841e+04], grad_fn=<NotImplemented>),\n",
       " tensor([-1.0000e-01, -9.9000e-02, -9.8000e-02, -9.7000e-02, -9.6000e-02,\n",
       "         -9.5000e-02, -9.4000e-02, -9.3000e-02, -9.2000e-02, -9.1000e-02,\n",
       "         -9.0000e-02, -8.9000e-02, -8.8000e-02, -8.7000e-02, -8.6000e-02,\n",
       "         -8.5000e-02, -8.4000e-02, -8.3000e-02, -8.2000e-02, -8.1000e-02,\n",
       "         -8.0000e-02, -7.9000e-02, -7.8000e-02, -7.7000e-02, -7.6000e-02,\n",
       "         -7.5000e-02, -7.4000e-02, -7.3000e-02, -7.2000e-02, -7.1000e-02,\n",
       "         -7.0000e-02, -6.9000e-02, -6.8000e-02, -6.7000e-02, -6.6000e-02,\n",
       "         -6.5000e-02, -6.4000e-02, -6.3000e-02, -6.2000e-02, -6.1000e-02,\n",
       "         -6.0000e-02, -5.9000e-02, -5.8000e-02, -5.7000e-02, -5.6000e-02,\n",
       "         -5.5000e-02, -5.4000e-02, -5.3000e-02, -5.2000e-02, -5.1000e-02,\n",
       "         -5.0000e-02, -4.9000e-02, -4.8000e-02, -4.7000e-02, -4.6000e-02,\n",
       "         -4.5000e-02, -4.4000e-02, -4.3000e-02, -4.2000e-02, -4.1000e-02,\n",
       "         -4.0000e-02, -3.9000e-02, -3.8000e-02, -3.7000e-02, -3.6000e-02,\n",
       "         -3.5000e-02, -3.4000e-02, -3.3000e-02, -3.2000e-02, -3.1000e-02,\n",
       "         -3.0000e-02, -2.9000e-02, -2.8000e-02, -2.7000e-02, -2.6000e-02,\n",
       "         -2.5000e-02, -2.4000e-02, -2.3000e-02, -2.2000e-02, -2.1000e-02,\n",
       "         -2.0000e-02, -1.9000e-02, -1.8000e-02, -1.7000e-02, -1.6000e-02,\n",
       "         -1.5000e-02, -1.4000e-02, -1.3000e-02, -1.2000e-02, -1.1000e-02,\n",
       "         -1.0000e-02, -9.0000e-03, -8.0000e-03, -7.0000e-03, -6.0000e-03,\n",
       "         -5.0000e-03, -4.0000e-03, -3.0000e-03, -2.0000e-03, -1.0000e-03,\n",
       "         -3.2596e-09,  1.0000e-03,  2.0000e-03,  3.0000e-03,  4.0000e-03,\n",
       "          5.0000e-03,  6.0000e-03,  7.0000e-03,  8.0000e-03,  9.0000e-03,\n",
       "          1.0000e-02,  1.1000e-02,  1.2000e-02,  1.3000e-02,  1.4000e-02,\n",
       "          1.5000e-02,  1.6000e-02,  1.7000e-02,  1.8000e-02,  1.9000e-02,\n",
       "          2.0000e-02,  2.1000e-02,  2.2000e-02,  2.3000e-02,  2.4000e-02,\n",
       "          2.5000e-02,  2.6000e-02,  2.7000e-02,  2.8000e-02,  2.9000e-02,\n",
       "          3.0000e-02,  3.1000e-02,  3.2000e-02,  3.3000e-02,  3.4000e-02,\n",
       "          3.5000e-02,  3.6000e-02,  3.7000e-02,  3.8000e-02,  3.9000e-02,\n",
       "          4.0000e-02,  4.1000e-02,  4.2000e-02,  4.3000e-02,  4.4000e-02,\n",
       "          4.5000e-02,  4.6000e-02,  4.7000e-02,  4.8000e-02,  4.9000e-02,\n",
       "          5.0000e-02,  5.1000e-02,  5.2000e-02,  5.3000e-02,  5.4000e-02,\n",
       "          5.5000e-02,  5.6000e-02,  5.7000e-02,  5.8000e-02,  5.9000e-02,\n",
       "          6.0000e-02,  6.1000e-02,  6.2000e-02,  6.3000e-02,  6.4000e-02,\n",
       "          6.5000e-02,  6.6000e-02,  6.7000e-02,  6.8000e-02,  6.9000e-02,\n",
       "          7.0000e-02,  7.1000e-02,  7.2000e-02,  7.3000e-02,  7.4000e-02,\n",
       "          7.5000e-02,  7.6000e-02,  7.7000e-02,  7.8000e-02,  7.9000e-02,\n",
       "          8.0000e-02,  8.1000e-02,  8.2000e-02,  8.3000e-02,  8.4000e-02,\n",
       "          8.5000e-02,  8.6000e-02,  8.7000e-02,  8.8000e-02,  8.9000e-02,\n",
       "          9.0000e-02,  9.1000e-02,  9.2000e-02,  9.3000e-02,  9.4000e-02,\n",
       "          9.5000e-02,  9.6000e-02,  9.7000e-02,  9.8000e-02,  9.9000e-02,\n",
       "          1.0000e-01], grad_fn=<NotImplemented>))"
      ]
     },
     "execution_count": 10,
     "metadata": {},
     "output_type": "execute_result"
    }
   ],
   "source": [
    "hist.hist, hist.bin_edges"
   ]
  },
  {
   "cell_type": "code",
   "execution_count": 11,
   "metadata": {},
   "outputs": [
    {
     "data": {
      "image/png": "[encoded data removed]",
      "text/plain": [
       "<Figure size 1600x900 with 1 Axes>"
      ]
     },
     "metadata": {},
     "output_type": "display_data"
    }
   ],
   "source": [
    "import matplotlib.pyplot as plt\n",
    "import matplotlib.ticker as ticker\n",
    "import numpy as np\n",
    "\n",
    "x = range(200)\n",
    "plt.figure(figsize=(16, 9))\n",
    "plt.bar(x, hist.hist.detach().numpy(), color=\"orange\")\n",
    "# plt.xticks(x, np.linspace(-1, 1, 200).round(3))\n",
    "plt.xticks(x, np.linspace(-0.1, 0.1, 200).round(3))  # 设置 x 轴的刻度（ticks）位置和对应的标签\n",
    "plt.gca().xaxis.set_major_locator(ticker.MultipleLocator(10))\n",
    "# plt.savefig('llama2.png', dpi=300)  # 保存为 PNG 格式，分辨率为 300 dpi\n",
    "plt.savefig('chatglm3.png', dpi=300) \n",
    "plt.show()"
   ]
  },
  {
   "cell_type": "code",
   "execution_count": null,
   "metadata": {},
   "outputs": [],
   "source": []
  }
 ],
 "metadata": {
  "kernelspec": {
   "display_name": "abc",
   "language": "python",
   "name": "python3"
  },
  "language_info": {
   "codemirror_mode": {
    "name": "ipython",
    "version": 3
   },
   "file_extension": ".py",
   "mimetype": "text/x-python",
   "name": "python",
   "nbconvert_exporter": "python",
   "pygments_lexer": "ipython3",
   "version": "3.9.12"
  }
 },
 "nbformat": 4,
 "nbformat_minor": 2
}
