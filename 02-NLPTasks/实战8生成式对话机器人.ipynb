{
    "cells": [
     {
      "cell_type": "markdown",
      "metadata": {},
      "source": [
       "## 生成式对话机器人"
      ]
     },
     {
      "cell_type": "markdown",
      "metadata": {},
      "source": [
       "### Step1 导入相关包"
      ]
     },
     {
      "cell_type": "code",
      "execution_count": 2,
      "metadata": {},
      "outputs": [],
      "source": [
       "import os\n",
       "\n",
       "# 设置可见的 GPU\n",
       "os.environ[\"CUDA_VISIBLE_DEVICES\"] = \"4,5,7\"\n",
       "\n",
       "from datasets import  Dataset\n",
       "from transformers import AutoTokenizer, AutoModelForCausalLM, DataCollatorForSeq2Seq, TrainingArguments, Trainer"
      ]
     },
     {
      "cell_type": "markdown",
      "metadata": {},
      "source": [
       "### Step2 加载数据集"
      ]
     },
     {
      "cell_type": "code",
      "execution_count": 3,
      "metadata": {},
      "outputs": [
       {
        "data": {
         "text/plain": [
          "Dataset({\n",
          "    features: ['output', 'input', 'instruction'],\n",
          "    num_rows: 26858\n",
          "})"
         ]
        },
        "execution_count": 3,
        "metadata": {},
        "output_type": "execute_result"
       }
      ],
      "source": [
       "ds = Dataset.load_from_disk(\"alpaca_data_zh\")\n",
       "ds"
      ]
     },
     {
      "cell_type": "code",
      "execution_count": 6,
      "metadata": {},
      "outputs": [
       {
        "data": {
         "text/plain": [
          "{'output': ['以下是保持健康的三个提示：\\n\\n1. 保持身体活动。每天做适当的身体运动，如散步、跑步或游泳，能促进心血管健康，增强肌肉力量，并有助于减少体重。\\n\\n2. 均衡饮食。每天食用新鲜的蔬菜、水果、全谷物和脂肪含量低的蛋白质食物，避免高糖、高脂肪和加工食品，以保持健康的饮食习惯。\\n\\n3. 睡眠充足。睡眠对人体健康至关重要，成年人每天应保证 7-8 小时的睡眠。良好的睡眠有助于减轻压力，促进身体恢复，并提高注意力和记忆力。',\n",
          "  '4/16等于1/4是因为我们可以约分分子分母都除以他们的最大公约数4，得到（4÷4）/ (16÷4）=1/4。分数的约分是用分子和分母除以相同的非零整数，来表示分数的一个相同的值，这因为分数实际上表示了分子除以分母，所以即使两个数同时除以同一个非零整数，分数的值也不会改变。所以4/16 和1/4是两种不同的书写形式，但它们的值相等。',\n",
          "  '朱利叶斯·凯撒，又称尤利乌斯·恺撒（Julius Caesar）是古罗马的政治家、军事家和作家。他于公元前44年3月15日被刺杀。 \\n\\n根据历史记载，当时罗马元老院里一些参议员联合起来策划了对恺撒的刺杀行动，因为他们担心恺撒的统治将给罗马共和制带来威胁。在公元前44年3月15日（又称“3月的艾达之日”），恺撒去参加元老院会议时，被一群参议员包围并被攻击致死。据记载，他身中23刀，其中一刀最终致命。'],\n",
          " 'input': ['', '输入：4/16', ''],\n",
          " 'instruction': ['保持健康的三个提示。', '解释为什么以下分数等同于1/4', '朱利叶斯·凯撒是如何死亡的？']}"
         ]
        },
        "execution_count": 6,
        "metadata": {},
        "output_type": "execute_result"
       }
      ],
      "source": [
       "ds[:3]"
      ]
     },
     {
      "cell_type": "markdown",
      "metadata": {},
      "source": [
       "### Step3 数据集处理"
      ]
     },
     {
      "cell_type": "code",
      "execution_count": null,
      "metadata": {},
      "outputs": [
       {
        "data": {
         "application/vnd.jupyter.widget-view+json": {
          "model_id": "fcf28f14bf70478889db7292a031767c",
          "version_major": 2,
          "version_minor": 0
         },
         "text/plain": [
          "tokenizer_config.json:   0%|          | 0.00/268 [00:00<?, ?B/s]"
         ]
        },
        "metadata": {},
        "output_type": "display_data"
       },
       {
        "data": {
         "application/vnd.jupyter.widget-view+json": {
          "model_id": "1db3f9b4def54fe0b966375877f675fb",
          "version_major": 2,
          "version_minor": 0
         },
         "text/plain": [
          "tokenizer.json: 0.00B [00:00, ?B/s]"
         ]
        },
        "metadata": {},
        "output_type": "display_data"
       },
       {
        "data": {
         "application/vnd.jupyter.widget-view+json": {
          "model_id": "48d21019d6054dab9a1fbb439a57ed47",
          "version_major": 2,
          "version_minor": 0
         },
         "text/plain": [
          "special_tokens_map.json:   0%|          | 0.00/96.0 [00:00<?, ?B/s]"
         ]
        },
        "metadata": {},
        "output_type": "display_data"
       },
       {
        "data": {
         "text/plain": [
          "BloomTokenizerFast(name_or_path='Langboat/bloom-389m-zh', vocab_size=42437, model_max_length=1000000000000000019884624838656, is_fast=True, padding_side='left', truncation_side='right', special_tokens={'bos_token': '<s>', 'eos_token': '</s>', 'unk_token': '<unk>', 'pad_token': '<pad>'}, clean_up_tokenization_spaces=False),  added_tokens_decoder={\n",
          "\t0: AddedToken(\"<unk>\", rstrip=False, lstrip=False, single_word=False, normalized=False, special=True),\n",
          "\t1: AddedToken(\"<s>\", rstrip=False, lstrip=False, single_word=False, normalized=False, special=True),\n",
          "\t2: AddedToken(\"</s>\", rstrip=False, lstrip=False, single_word=False, normalized=False, special=True),\n",
          "\t3: AddedToken(\"<pad>\", rstrip=False, lstrip=False, single_word=False, normalized=False, special=True),\n",
          "}"
         ]
        },
        "execution_count": 7,
        "metadata": {},
        "output_type": "execute_result"
       }
      ],
      "source": [
       "tokenizer = AutoTokenizer.from_pretrained(\"Langboat/bloom-389m-zh\")\n",
       "tokenizer"
      ]
     },
     {
      "cell_type": "code",
      "execution_count": 8,
      "metadata": {},
      "outputs": [],
      "source": [
       "def process_function(example):\n",
       "    MAX_LENGTH = 256\n",
       "    input_ids, attention_mask, labels = [], [], []\n",
       "    instruction = tokenizer(\"\\n\".join([\"Human:\" + example[\"instruction\"], example[\"input\"]]).strip() + \"\\n\\nAssistant:\")\n",
       "    response = tokenizer(example[\"output\"] + tokenizer.eos_token)\n",
       "    input_ids = instruction[\"input_ids\"] + response[\"input_ids\"]\n",
       "    attention_mask = instruction[\"attention_mask\"] + response[\"attention_mask\"]\n",
       "    labels = [-100] * len(instruction[\"input_ids\"]) + response[\"input_ids\"]\n",
       "    if len(input_ids) > MAX_LENGTH:\n",
       "        input_ids = input_ids[:MAX_LENGTH]\n",
       "        attention_mask = attention_mask[:MAX_LENGTH]\n",
       "        labels = labels[:MAX_LENGTH]\n",
       "    return {\n",
       "        \"input_ids\": input_ids,\n",
       "        \"attention_mask\": attention_mask,\n",
       "        \"labels\": labels\n",
       "    }"
      ]
     },
     {
      "cell_type": "code",
      "execution_count": 9,
      "metadata": {},
      "outputs": [
       {
        "data": {
         "application/vnd.jupyter.widget-view+json": {
          "model_id": "4ab941ea46bc46a797222bf9c31f3565",
          "version_major": 2,
          "version_minor": 0
         },
         "text/plain": [
          "Map:   0%|          | 0/26858 [00:00<?, ? examples/s]"
         ]
        },
        "metadata": {},
        "output_type": "display_data"
       },
       {
        "data": {
         "text/plain": [
          "Dataset({\n",
          "    features: ['input_ids', 'attention_mask', 'labels'],\n",
          "    num_rows: 26858\n",
          "})"
         ]
        },
        "execution_count": 9,
        "metadata": {},
        "output_type": "execute_result"
       }
      ],
      "source": [
       "tokenized_ds = ds.map(process_function, remove_columns=ds.column_names)\n",
       "tokenized_ds"
      ]
     },
     {
      "cell_type": "code",
      "execution_count": 12,
      "metadata": {},
      "outputs": [
       {
        "data": {
         "text/plain": [
          "'Human:解释为什么以下分数等同于1/4\\n输入：4/16\\n\\nAssistant:4/16等于1/4是因为我们可以约分分子分母都除以他们的最大公约数4，得到（4÷4）/ (16÷4）=1/4。分数的约分是用分子和分母除以相同的非零整数，来表示分数的一个相同的值，这因为分数实际上表示了分子除以分母，所以即使两个数同时除以同一个非零整数，分数的值也不会改变。所以4/16 和1/4是两种不同的书写形式，但它们的值相等。</s>'"
         ]
        },
        "execution_count": 12,
        "metadata": {},
        "output_type": "execute_result"
       }
      ],
      "source": [
       "tokenizer.decode(tokenized_ds[1][\"input_ids\"])"
      ]
     },
     {
      "cell_type": "code",
      "execution_count": 13,
      "metadata": {},
      "outputs": [
       {
        "data": {
         "text/plain": [
          "'4/16等于1/4是因为我们可以约分分子分母都除以他们的最大公约数4，得到（4÷4）/ (16÷4）=1/4。分数的约分是用分子和分母除以相同的非零整数，来表示分数的一个相同的值，这因为分数实际上表示了分子除以分母，所以即使两个数同时除以同一个非零整数，分数的值也不会改变。所以4/16 和1/4是两种不同的书写形式，但它们的值相等。</s>'"
         ]
        },
        "execution_count": 13,
        "metadata": {},
        "output_type": "execute_result"
       }
      ],
      "source": [
       "tokenizer.decode(list(filter(lambda x: x != -100, tokenized_ds[1][\"labels\"])))"
      ]
     },
     {
      "cell_type": "markdown",
      "metadata": {},
      "source": [
       "### Step4 创建模型"
      ]
     },
     {
      "cell_type": "code",
      "execution_count": 14,
      "metadata": {},
      "outputs": [
       {
        "data": {
         "application/vnd.jupyter.widget-view+json": {
          "model_id": "7248cdaffeeb440f8732927be08cd392",
          "version_major": 2,
          "version_minor": 0
         },
         "text/plain": [
          "config.json:   0%|          | 0.00/431 [00:00<?, ?B/s]"
         ]
        },
        "metadata": {},
        "output_type": "display_data"
       },
       {
        "data": {
         "application/vnd.jupyter.widget-view+json": {
          "model_id": "8eee9f5effed4fd998ab6a8e45058f47",
          "version_major": 2,
          "version_minor": 0
         },
         "text/plain": [
          "pytorch_model.bin:   0%|          | 0.00/1.56G [00:00<?, ?B/s]"
         ]
        },
        "metadata": {},
        "output_type": "display_data"
       }
      ],
      "source": [
       "model = AutoModelForCausalLM.from_pretrained(\"Langboat/bloom-389m-zh\")"
      ]
     },
     {
      "cell_type": "markdown",
      "metadata": {},
      "source": [
       "### Step5 配置训练参数"
      ]
     },
     {
      "cell_type": "code",
      "execution_count": 15,
      "metadata": {},
      "outputs": [],
      "source": [
       "import logging\n",
       "\n",
       "logging.basicConfig(level=logging.INFO)"
      ]
     },
     {
      "cell_type": "code",
      "execution_count": 16,
      "metadata": {},
      "outputs": [
       {
        "name": "stderr",
        "output_type": "stream",
        "text": [
         "huggingface/tokenizers: The current process just got forked, after parallelism has already been used. Disabling parallelism to avoid deadlocks...\n",
         "To disable this warning, you can either:\n",
         "\t- Avoid using `tokenizers` before the fork if possible\n",
         "\t- Explicitly set the environment variable TOKENIZERS_PARALLELISM=(true | false)\n",
         "huggingface/tokenizers: The current process just got forked, after parallelism has already been used. Disabling parallelism to avoid deadlocks...\n",
         "To disable this warning, you can either:\n",
         "\t- Avoid using `tokenizers` before the fork if possible\n",
         "\t- Explicitly set the environment variable TOKENIZERS_PARALLELISM=(true | false)\n",
         "huggingface/tokenizers: The current process just got forked, after parallelism has already been used. Disabling parallelism to avoid deadlocks...\n",
         "To disable this warning, you can either:\n",
         "\t- Avoid using `tokenizers` before the fork if possible\n",
         "\t- Explicitly set the environment variable TOKENIZERS_PARALLELISM=(true | false)\n"
        ]
       }
      ],
      "source": [
       "args = TrainingArguments(\n",
       "    output_dir=\"./chatbot\",\n",
       "    per_device_train_batch_size=4,\n",
       "    gradient_accumulation_steps=8,\n",
       "    logging_steps=10,\n",
       "    num_train_epochs=3\n",
       ")"
      ]
     },
     {
      "cell_type": "markdown",
      "metadata": {},
      "source": [
       "### Step7 创建训练器"
      ]
     },
     {
      "cell_type": "code",
      "execution_count": 17,
      "metadata": {},
      "outputs": [],
      "source": [
       "trainer = Trainer(\n",
       "    args=args,\n",
       "    model=model,\n",
       "    tokenizer=tokenizer,\n",
       "    train_dataset=tokenized_ds,\n",
       "    data_collator=DataCollatorForSeq2Seq(tokenizer=tokenizer, padding=True)\n",
       ")"
      ]
     },
     {
      "cell_type": "markdown",
      "metadata": {},
      "source": [
       "### Step8 模型训练"
      ]
     },
     {
      "cell_type": "code",
      "execution_count": 18,
      "metadata": {},
      "outputs": [
       {
        "name": "stderr",
        "output_type": "stream",
        "text": [
         "/node6_1/tanshuai/.conda/envs/abc/lib/python3.9/site-packages/torch/nn/parallel/_functions.py:68: UserWarning: Was asked to gather along dimension 0, but all input tensors were scalars; will instead unsqueeze and return a vector.\n",
         "  warnings.warn('Was asked to gather along dimension 0, but all '\n"
        ]
       },
       {
        "data": {
         "text/html": [
          "\n",
          "    <div>\n",
          "      \n",
          "      <progress value='837' max='837' style='width:300px; height:20px; vertical-align: middle;'></progress>\n",
          "      [837/837 23:17, Epoch 2/3]\n",
          "    </div>\n",
          "    <table border=\"1\" class=\"dataframe\">\n",
          "  <thead>\n",
          " <tr style=\"text-align: left;\">\n",
          "      <th>Step</th>\n",
          "      <th>Training Loss</th>\n",
          "    </tr>\n",
          "  </thead>\n",
          "  <tbody>\n",
          "    <tr>\n",
          "      <td>10</td>\n",
          "      <td>2.983500</td>\n",
          "    </tr>\n",
          "    <tr>\n",
          "      <td>20</td>\n",
          "      <td>2.916200</td>\n",
          "    </tr>\n",
          "    <tr>\n",
          "      <td>30</td>\n",
          "      <td>2.854700</td>\n",
          "    </tr>\n",
          "    <tr>\n",
          "      <td>40</td>\n",
          "      <td>2.810300</td>\n",
          "    </tr>\n",
          "    <tr>\n",
          "      <td>50</td>\n",
          "      <td>2.760900</td>\n",
          "    </tr>\n",
          "    <tr>\n",
          "      <td>60</td>\n",
          "      <td>2.681100</td>\n",
          "    </tr>\n",
          "    <tr>\n",
          "      <td>70</td>\n",
          "      <td>2.651200</td>\n",
          "    </tr>\n",
          "    <tr>\n",
          "      <td>80</td>\n",
          "      <td>2.575300</td>\n",
          "    </tr>\n",
          "    <tr>\n",
          "      <td>90</td>\n",
          "      <td>2.526400</td>\n",
          "    </tr>\n",
          "    <tr>\n",
          "      <td>100</td>\n",
          "      <td>2.551400</td>\n",
          "    </tr>\n",
          "    <tr>\n",
          "      <td>110</td>\n",
          "      <td>2.558600</td>\n",
          "    </tr>\n",
          "    <tr>\n",
          "      <td>120</td>\n",
          "      <td>2.585500</td>\n",
          "    </tr>\n",
          "    <tr>\n",
          "      <td>130</td>\n",
          "      <td>2.579000</td>\n",
          "    </tr>\n",
          "    <tr>\n",
          "      <td>140</td>\n",
          "      <td>2.521500</td>\n",
          "    </tr>\n",
          "    <tr>\n",
          "      <td>150</td>\n",
          "      <td>2.497600</td>\n",
          "    </tr>\n",
          "    <tr>\n",
          "      <td>160</td>\n",
          "      <td>2.568700</td>\n",
          "    </tr>\n",
          "    <tr>\n",
          "      <td>170</td>\n",
          "      <td>2.483000</td>\n",
          "    </tr>\n",
          "    <tr>\n",
          "      <td>180</td>\n",
          "      <td>2.465800</td>\n",
          "    </tr>\n",
          "    <tr>\n",
          "      <td>190</td>\n",
          "      <td>2.415800</td>\n",
          "    </tr>\n",
          "    <tr>\n",
          "      <td>200</td>\n",
          "      <td>2.446400</td>\n",
          "    </tr>\n",
          "    <tr>\n",
          "      <td>210</td>\n",
          "      <td>2.475700</td>\n",
          "    </tr>\n",
          "    <tr>\n",
          "      <td>220</td>\n",
          "      <td>2.478500</td>\n",
          "    </tr>\n",
          "    <tr>\n",
          "      <td>230</td>\n",
          "      <td>2.445000</td>\n",
          "    </tr>\n",
          "    <tr>\n",
          "      <td>240</td>\n",
          "      <td>2.459400</td>\n",
          "    </tr>\n",
          "    <tr>\n",
          "      <td>250</td>\n",
          "      <td>2.418700</td>\n",
          "    </tr>\n",
          "    <tr>\n",
          "      <td>260</td>\n",
          "      <td>2.379600</td>\n",
          "    </tr>\n",
          "    <tr>\n",
          "      <td>270</td>\n",
          "      <td>2.385200</td>\n",
          "    </tr>\n",
          "    <tr>\n",
          "      <td>280</td>\n",
          "      <td>2.386500</td>\n",
          "    </tr>\n",
          "    <tr>\n",
          "      <td>290</td>\n",
          "      <td>1.724200</td>\n",
          "    </tr>\n",
          "    <tr>\n",
          "      <td>300</td>\n",
          "      <td>1.694800</td>\n",
          "    </tr>\n",
          "    <tr>\n",
          "      <td>310</td>\n",
          "      <td>1.712800</td>\n",
          "    </tr>\n",
          "    <tr>\n",
          "      <td>320</td>\n",
          "      <td>1.693900</td>\n",
          "    </tr>\n",
          "    <tr>\n",
          "      <td>330</td>\n",
          "      <td>1.711500</td>\n",
          "    </tr>\n",
          "    <tr>\n",
          "      <td>340</td>\n",
          "      <td>1.723400</td>\n",
          "    </tr>\n",
          "    <tr>\n",
          "      <td>350</td>\n",
          "      <td>1.673400</td>\n",
          "    </tr>\n",
          "    <tr>\n",
          "      <td>360</td>\n",
          "      <td>1.669400</td>\n",
          "    </tr>\n",
          "    <tr>\n",
          "      <td>370</td>\n",
          "      <td>1.719100</td>\n",
          "    </tr>\n",
          "    <tr>\n",
          "      <td>380</td>\n",
          "      <td>1.694500</td>\n",
          "    </tr>\n",
          "    <tr>\n",
          "      <td>390</td>\n",
          "      <td>1.669700</td>\n",
          "    </tr>\n",
          "    <tr>\n",
          "      <td>400</td>\n",
          "      <td>1.697700</td>\n",
          "    </tr>\n",
          "    <tr>\n",
          "      <td>410</td>\n",
          "      <td>1.691400</td>\n",
          "    </tr>\n",
          "    <tr>\n",
          "      <td>420</td>\n",
          "      <td>1.711900</td>\n",
          "    </tr>\n",
          "    <tr>\n",
          "      <td>430</td>\n",
          "      <td>1.741900</td>\n",
          "    </tr>\n",
          "    <tr>\n",
          "      <td>440</td>\n",
          "      <td>1.714000</td>\n",
          "    </tr>\n",
          "    <tr>\n",
          "      <td>450</td>\n",
          "      <td>1.680000</td>\n",
          "    </tr>\n",
          "    <tr>\n",
          "      <td>460</td>\n",
          "      <td>1.655900</td>\n",
          "    </tr>\n",
          "    <tr>\n",
          "      <td>470</td>\n",
          "      <td>1.677700</td>\n",
          "    </tr>\n",
          "    <tr>\n",
          "      <td>480</td>\n",
          "      <td>1.706600</td>\n",
          "    </tr>\n",
          "    <tr>\n",
          "      <td>490</td>\n",
          "      <td>1.692100</td>\n",
          "    </tr>\n",
          "    <tr>\n",
          "      <td>500</td>\n",
          "      <td>1.677200</td>\n",
          "    </tr>\n",
          "    <tr>\n",
          "      <td>510</td>\n",
          "      <td>1.681500</td>\n",
          "    </tr>\n",
          "    <tr>\n",
          "      <td>520</td>\n",
          "      <td>1.726800</td>\n",
          "    </tr>\n",
          "    <tr>\n",
          "      <td>530</td>\n",
          "      <td>1.682200</td>\n",
          "    </tr>\n",
          "    <tr>\n",
          "      <td>540</td>\n",
          "      <td>1.624400</td>\n",
          "    </tr>\n",
          "    <tr>\n",
          "      <td>550</td>\n",
          "      <td>1.639200</td>\n",
          "    </tr>\n",
          "    <tr>\n",
          "      <td>560</td>\n",
          "      <td>1.662400</td>\n",
          "    </tr>\n",
          "    <tr>\n",
          "      <td>570</td>\n",
          "      <td>1.141700</td>\n",
          "    </tr>\n",
          "    <tr>\n",
          "      <td>580</td>\n",
          "      <td>1.095300</td>\n",
          "    </tr>\n",
          "    <tr>\n",
          "      <td>590</td>\n",
          "      <td>1.092900</td>\n",
          "    </tr>\n",
          "    <tr>\n",
          "      <td>600</td>\n",
          "      <td>1.084600</td>\n",
          "    </tr>\n",
          "    <tr>\n",
          "      <td>610</td>\n",
          "      <td>1.096800</td>\n",
          "    </tr>\n",
          "    <tr>\n",
          "      <td>620</td>\n",
          "      <td>1.108700</td>\n",
          "    </tr>\n",
          "    <tr>\n",
          "      <td>630</td>\n",
          "      <td>1.107700</td>\n",
          "    </tr>\n",
          "    <tr>\n",
          "      <td>640</td>\n",
          "      <td>1.084500</td>\n",
          "    </tr>\n",
          "    <tr>\n",
          "      <td>650</td>\n",
          "      <td>1.084400</td>\n",
          "    </tr>\n",
          "    <tr>\n",
          "      <td>660</td>\n",
          "      <td>1.099000</td>\n",
          "    </tr>\n",
          "    <tr>\n",
          "      <td>670</td>\n",
          "      <td>1.088600</td>\n",
          "    </tr>\n",
          "    <tr>\n",
          "      <td>680</td>\n",
          "      <td>1.118000</td>\n",
          "    </tr>\n",
          "    <tr>\n",
          "      <td>690</td>\n",
          "      <td>1.089700</td>\n",
          "    </tr>\n",
          "    <tr>\n",
          "      <td>700</td>\n",
          "      <td>1.107400</td>\n",
          "    </tr>\n",
          "    <tr>\n",
          "      <td>710</td>\n",
          "      <td>1.109200</td>\n",
          "    </tr>\n",
          "    <tr>\n",
          "      <td>720</td>\n",
          "      <td>1.083200</td>\n",
          "    </tr>\n",
          "    <tr>\n",
          "      <td>730</td>\n",
          "      <td>1.117000</td>\n",
          "    </tr>\n",
          "    <tr>\n",
          "      <td>740</td>\n",
          "      <td>1.054300</td>\n",
          "    </tr>\n",
          "    <tr>\n",
          "      <td>750</td>\n",
          "      <td>1.121900</td>\n",
          "    </tr>\n",
          "    <tr>\n",
          "      <td>760</td>\n",
          "      <td>1.087300</td>\n",
          "    </tr>\n",
          "    <tr>\n",
          "      <td>770</td>\n",
          "      <td>1.084100</td>\n",
          "    </tr>\n",
          "    <tr>\n",
          "      <td>780</td>\n",
          "      <td>1.086700</td>\n",
          "    </tr>\n",
          "    <tr>\n",
          "      <td>790</td>\n",
          "      <td>1.098600</td>\n",
          "    </tr>\n",
          "    <tr>\n",
          "      <td>800</td>\n",
          "      <td>1.101800</td>\n",
          "    </tr>\n",
          "    <tr>\n",
          "      <td>810</td>\n",
          "      <td>1.075500</td>\n",
          "    </tr>\n",
          "    <tr>\n",
          "      <td>820</td>\n",
          "      <td>1.094900</td>\n",
          "    </tr>\n",
          "    <tr>\n",
          "      <td>830</td>\n",
          "      <td>1.092800</td>\n",
          "    </tr>\n",
          "  </tbody>\n",
          "</table><p>"
         ],
         "text/plain": [
          "<IPython.core.display.HTML object>"
         ]
        },
        "metadata": {},
        "output_type": "display_data"
       },
       {
        "name": "stderr",
        "output_type": "stream",
        "text": [
         "/node6_1/tanshuai/.conda/envs/abc/lib/python3.9/site-packages/torch/nn/parallel/_functions.py:68: UserWarning: Was asked to gather along dimension 0, but all input tensors were scalars; will instead unsqueeze and return a vector.\n",
         "  warnings.warn('Was asked to gather along dimension 0, but all '\n"
        ]
       },
       {
        "data": {
         "text/plain": [
          "TrainOutput(global_step=837, training_loss=1.7871749016546434, metrics={'train_runtime': 1403.0683, 'train_samples_per_second': 57.427, 'train_steps_per_second': 0.597, 'total_flos': 2.0973211157938176e+16, 'train_loss': 1.7871749016546434, 'epoch': 2.9906208128628853})"
         ]
        },
        "execution_count": 18,
        "metadata": {},
        "output_type": "execute_result"
       }
      ],
      "source": [
       "trainer.train()"
      ]
     },
     {
      "cell_type": "markdown",
      "metadata": {},
      "source": [
       "### Step9 模型推理"
      ]
     },
     {
      "cell_type": "code",
      "execution_count": 19,
      "metadata": {},
      "outputs": [],
      "source": [
       "from transformers import pipeline\n",
       "\n",
       "pipe = pipeline(\"text-generation\", model=model, tokenizer=tokenizer, device=0)"
      ]
     },
     {
      "cell_type": "code",
      "execution_count": 41,
      "metadata": {},
      "outputs": [
       {
        "name": "stdout",
        "output_type": "stream",
        "text": [
         "[{'generated_text': 'Human: 考试有哪些技巧？\\n\\nAssistant:考试有很多技巧，以下是其中一些常见技巧的示例：\\n\\n1. 复习策略：复习可以分为三步走：第一步是熟悉考试内容和题型，这可以通过阅读和练习来完成；第二步是准备答题技巧，包括选择正确的题型、运用正确的解题步骤、分析答案等；第三步是准备作弊技巧，如作弊软件、作弊材料等。\\n\\n2. 时间管理：有效的时间管理可以确保考生在规定时间内完成考试内容和答题技巧。这可以通过设置考前复习计划、合理安排作息时间等方法来实现。\\n\\n3. 考前准备：考前准备可以确保考生熟悉考场环境、熟悉考试要求，并能够有效地应对考试。这可以通过提前做准备题、认真阅读考试说明、做好考前准备材料等方法来实现。\\n\\n4. 心理调适：心理调节可以有效缓解压力，有助于考生在考场上获得更好的表现。这可以通过提供适当的考前心理指导和帮助，以及保持良好的作息时间等方法来实现。\\n\\n以上是一些常见技巧，希望能对您有所帮助。'}]\n"
        ]
       }
      ],
      "source": [
       "input = \"Human: {}\\n{}\".format(\"考试有哪些技巧？\", \"\").strip() + \"\\n\\nAssistant:\"\n",
       "print(pipe(input, max_length=256, do_sample=True, top_k=5, temperature=0.8))"
      ]
     },
     {
      "cell_type": "code",
      "execution_count": null,
      "metadata": {},
      "outputs": [],
      "source": []
     }
    ],
    "metadata": {
     "kernelspec": {
      "display_name": "Python 3",
      "language": "python",
      "name": "python3"
     },
     "language_info": {
      "codemirror_mode": {
       "name": "ipython",
       "version": 3
      },
      "file_extension": ".py",
      "mimetype": "text/x-python",
      "name": "python",
      "nbconvert_exporter": "python",
      "pygments_lexer": "ipython3",
      "version": "3.9.12"
     }
    },
    "nbformat": 4,
    "nbformat_minor": 2
   }
   