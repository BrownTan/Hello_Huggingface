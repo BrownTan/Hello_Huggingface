{
 "cells": [
  {
   "cell_type": "markdown",
   "metadata": {},
   "source": [
    "# LoRA\n",
    "1.3B参数模型，全量微调显存25.80G；LoRA显存6.42G"
   ]
  },
  {
   "cell_type": "markdown",
   "metadata": {},
   "source": [
    "## Step1 导入相关包"
   ]
  },
  {
   "cell_type": "code",
   "execution_count": 1,
   "metadata": {},
   "outputs": [],
   "source": [
    "import os\n",
    "os.environ['CUDA_VISIBLE_DEVICES'] = \"4\"\n",
    "\n",
    "from datasets import load_dataset\n",
    "from transformers import AutoTokenizer, AutoModelForCausalLM, DataCollatorForSeq2Seq, TrainingArguments, Trainer"
   ]
  },
  {
   "cell_type": "markdown",
   "metadata": {},
   "source": [
    "## Step2 加载数据集"
   ]
  },
  {
   "cell_type": "code",
   "execution_count": 2,
   "metadata": {},
   "outputs": [
    {
     "name": "stderr",
     "output_type": "stream",
     "text": [
      "Repo card metadata block was not found. Setting CardData to empty.\n"
     ]
    },
    {
     "data": {
      "text/plain": [
       "Dataset({\n",
       "    features: ['instruction', 'input', 'output'],\n",
       "    num_rows: 10000\n",
       "})"
      ]
     },
     "execution_count": 2,
     "metadata": {},
     "output_type": "execute_result"
    }
   ],
   "source": [
    "ds = load_dataset(\"lifefabric/alpaca_data_cleaned.zh\", split=\"train[:10000]\")\n",
    "ds"
   ]
  },
  {
   "cell_type": "code",
   "execution_count": 3,
   "metadata": {},
   "outputs": [
    {
     "data": {
      "text/plain": [
       "{'instruction': ['给出三个保持健康的提示。', '三种主要颜色是什么?', '描述一个原子的结构。'],\n",
       " 'input': ['', '', ''],\n",
       " 'output': ['1 。 吃均衡和营养的饮食: 确保你的膳食包括各种水果和蔬菜, 瘦肉蛋白质, 全谷物和健康脂肪。 这有助于为您的身体提供最佳功能的必需营养素, 并有助于预防慢性疾病。\\n\\n2. 定期进行体育锻炼: 锻炼对于维持强壮的骨骼, 肌肉和心血管健康至关重要。 每周至少进行 150 分钟的中度有氧运动或 75 分钟的剧烈运动。\\n\\n3. 获得足够的睡眠: 获得足够的高质量睡眠对身心健康至关重要。 它有助于调节情绪, 改善认知功能, 并支持健康的生长和免疫功能。 每天晚上瞄准 7 - 9 小时的睡眠。',\n",
       "  '三种主要颜色是红色, 蓝色和黄色。 这些颜色被称为主要颜色, 因为它们不能通过混合其他颜色来创建, 所有其他颜色都可以通过以各种比例组合来创建。 在添加色系中, 用于光线的主要颜色是红色, 绿色和蓝色 (R GB) 。',\n",
       "  '原子是所有物质的基本构建块, 由三种类型的粒子组成: 质子, 中子和电子。 原子的结构可以被描述为中心的一个原子核, 周围是一团电子云。\\n\\n原子核由质子和中子组成。 质子是带正电的粒子, 中子是没有电荷的中性粒子。 这两个粒子都位于原子核中, 原子核位于原子的中心, 并包含原子的大部分质量。\\n\\n原子核周围是一团电子云。 电子是在原子核周围不断运动的带负电粒子。 电子云分为壳层或轨道, 每个壳层可以容纳一定数量的电子。 外壳中的电子数, 称为价壳, 决定了原子的化学性质。 \\n\\n在中性原子中, 原子核中的质子数等于电子云中的电子数, 因此正电荷和负电荷平衡, 原子没有总电荷。 质子的数量, 也称为原子序数, 决定了原子是什么元素。']}"
      ]
     },
     "execution_count": 3,
     "metadata": {},
     "output_type": "execute_result"
    }
   ],
   "source": [
    "ds[:3]"
   ]
  },
  {
   "cell_type": "markdown",
   "metadata": {},
   "source": [
    "## Step3 数据集预处理"
   ]
  },
  {
   "cell_type": "code",
   "execution_count": 4,
   "metadata": {},
   "outputs": [
    {
     "data": {
      "text/plain": [
       "BloomTokenizerFast(name_or_path='Langboat/bloom-1b4-zh', vocab_size=46145, model_max_length=1000000000000000019884624838656, is_fast=True, padding_side='left', truncation_side='right', special_tokens={'bos_token': '<s>', 'eos_token': '</s>', 'unk_token': '<unk>', 'pad_token': '<pad>'}, clean_up_tokenization_spaces=False),  added_tokens_decoder={\n",
       "\t0: AddedToken(\"<unk>\", rstrip=False, lstrip=False, single_word=False, normalized=False, special=True),\n",
       "\t1: AddedToken(\"<s>\", rstrip=False, lstrip=False, single_word=False, normalized=False, special=True),\n",
       "\t2: AddedToken(\"</s>\", rstrip=False, lstrip=False, single_word=False, normalized=False, special=True),\n",
       "\t3: AddedToken(\"<pad>\", rstrip=False, lstrip=False, single_word=False, normalized=False, special=True),\n",
       "}"
      ]
     },
     "execution_count": 4,
     "metadata": {},
     "output_type": "execute_result"
    }
   ],
   "source": [
    "tokenizer = AutoTokenizer.from_pretrained(\"Langboat/bloom-1b4-zh\")\n",
    "tokenizer"
   ]
  },
  {
   "cell_type": "code",
   "execution_count": 5,
   "metadata": {},
   "outputs": [],
   "source": [
    "def process_func(example):\n",
    "    MAX_LENGTH = 256\n",
    "    input_ids, attention_mask, labels = [], [], []\n",
    "    instruction = tokenizer(\"\\n\".join([\"Human: \" + example[\"instruction\"], example[\"input\"]]).strip() + \"\\n\\nAssistant: \")\n",
    "    response = tokenizer(example[\"output\"] + tokenizer.eos_token)\n",
    "    input_ids = instruction[\"input_ids\"] + response[\"input_ids\"]\n",
    "    attention_mask = instruction[\"attention_mask\"] + response[\"attention_mask\"]\n",
    "    labels = [-100] * len(instruction[\"input_ids\"]) + response[\"input_ids\"]\n",
    "    if len(input_ids) > MAX_LENGTH:\n",
    "        input_ids = input_ids[:MAX_LENGTH]\n",
    "        attention_mask = attention_mask[:MAX_LENGTH]\n",
    "        labels = labels[:MAX_LENGTH]\n",
    "    return {\n",
    "        \"input_ids\": input_ids,\n",
    "        \"attention_mask\": attention_mask,\n",
    "        \"labels\": labels\n",
    "    }"
   ]
  },
  {
   "cell_type": "code",
   "execution_count": 6,
   "metadata": {},
   "outputs": [
    {
     "data": {
      "text/plain": [
       "Dataset({\n",
       "    features: ['input_ids', 'attention_mask', 'labels'],\n",
       "    num_rows: 10000\n",
       "})"
      ]
     },
     "execution_count": 6,
     "metadata": {},
     "output_type": "execute_result"
    }
   ],
   "source": [
    "tokenized_ds = ds.map(process_func, remove_columns=ds.column_names)\n",
    "tokenized_ds"
   ]
  },
  {
   "cell_type": "code",
   "execution_count": 7,
   "metadata": {},
   "outputs": [
    {
     "data": {
      "text/plain": [
       "'Human: 三种主要颜色是什么?\\n\\nAssistant: 三种主要颜色是红色, 蓝色和黄色。 这些颜色被称为主要颜色, 因为它们不能通过混合其他颜色来创建, 所有其他颜色都可以通过以各种比例组合来创建。 在添加色系中, 用于光线的主要颜色是红色, 绿色和蓝色 (R GB) 。</s>'"
      ]
     },
     "execution_count": 7,
     "metadata": {},
     "output_type": "execute_result"
    }
   ],
   "source": [
    "tokenizer.decode(tokenized_ds[1][\"input_ids\"])"
   ]
  },
  {
   "cell_type": "code",
   "execution_count": 8,
   "metadata": {},
   "outputs": [
    {
     "data": {
      "text/plain": [
       "'三种主要颜色是红色, 蓝色和黄色。 这些颜色被称为主要颜色, 因为它们不能通过混合其他颜色来创建, 所有其他颜色都可以通过以各种比例组合来创建。 在添加色系中, 用于光线的主要颜色是红色, 绿色和蓝色 (R GB) 。</s>'"
      ]
     },
     "execution_count": 8,
     "metadata": {},
     "output_type": "execute_result"
    }
   ],
   "source": [
    "tokenizer.decode(list(filter(lambda x: x != -100, tokenized_ds[1][\"labels\"])))"
   ]
  },
  {
   "cell_type": "markdown",
   "metadata": {},
   "source": [
    "## Step4 创建模型"
   ]
  },
  {
   "cell_type": "code",
   "execution_count": 9,
   "metadata": {},
   "outputs": [],
   "source": [
    "model = AutoModelForCausalLM.from_pretrained(\"Langboat/bloom-1b4-zh\", low_cpu_mem_usage=True)"
   ]
  },
  {
   "cell_type": "code",
   "execution_count": 10,
   "metadata": {},
   "outputs": [
    {
     "data": {
      "text/plain": [
       "1303111680"
      ]
     },
     "execution_count": 10,
     "metadata": {},
     "output_type": "execute_result"
    }
   ],
   "source": [
    "sum(param.numel() for param in model.parameters())"
   ]
  },
  {
   "cell_type": "markdown",
   "metadata": {},
   "source": [
    "model size: 1.3B\n",
    "\n",
    "model: 1.3G * 4 ~= 5.2G\n",
    "\n",
    "gradient: 1.3G * 4 ~= 5.2G\n",
    "\n",
    "optimizer: 1.3G * 4 * 2 ~= 10.4G\n",
    "\n",
    "sum: 20.8G"
   ]
  },
  {
   "cell_type": "code",
   "execution_count": 11,
   "metadata": {},
   "outputs": [
    {
     "name": "stdout",
     "output_type": "stream",
     "text": [
      "transformer.word_embeddings.weight\n",
      "transformer.word_embeddings_layernorm.weight\n",
      "transformer.word_embeddings_layernorm.bias\n",
      "transformer.h.0.input_layernorm.weight\n",
      "transformer.h.0.input_layernorm.bias\n",
      "transformer.h.0.self_attention.query_key_value.weight\n",
      "transformer.h.0.self_attention.query_key_value.bias\n",
      "transformer.h.0.self_attention.dense.weight\n",
      "transformer.h.0.self_attention.dense.bias\n",
      "transformer.h.0.post_attention_layernorm.weight\n",
      "transformer.h.0.post_attention_layernorm.bias\n",
      "transformer.h.0.mlp.dense_h_to_4h.weight\n",
      "transformer.h.0.mlp.dense_h_to_4h.bias\n",
      "transformer.h.0.mlp.dense_4h_to_h.weight\n",
      "transformer.h.0.mlp.dense_4h_to_h.bias\n",
      "transformer.h.1.input_layernorm.weight\n",
      "transformer.h.1.input_layernorm.bias\n",
      "transformer.h.1.self_attention.query_key_value.weight\n",
      "transformer.h.1.self_attention.query_key_value.bias\n",
      "transformer.h.1.self_attention.dense.weight\n",
      "transformer.h.1.self_attention.dense.bias\n",
      "transformer.h.1.post_attention_layernorm.weight\n",
      "transformer.h.1.post_attention_layernorm.bias\n",
      "transformer.h.1.mlp.dense_h_to_4h.weight\n",
      "transformer.h.1.mlp.dense_h_to_4h.bias\n",
      "transformer.h.1.mlp.dense_4h_to_h.weight\n",
      "transformer.h.1.mlp.dense_4h_to_h.bias\n",
      "transformer.h.2.input_layernorm.weight\n",
      "transformer.h.2.input_layernorm.bias\n",
      "transformer.h.2.self_attention.query_key_value.weight\n",
      "transformer.h.2.self_attention.query_key_value.bias\n",
      "transformer.h.2.self_attention.dense.weight\n",
      "transformer.h.2.self_attention.dense.bias\n",
      "transformer.h.2.post_attention_layernorm.weight\n",
      "transformer.h.2.post_attention_layernorm.bias\n",
      "transformer.h.2.mlp.dense_h_to_4h.weight\n",
      "transformer.h.2.mlp.dense_h_to_4h.bias\n",
      "transformer.h.2.mlp.dense_4h_to_h.weight\n",
      "transformer.h.2.mlp.dense_4h_to_h.bias\n",
      "transformer.h.3.input_layernorm.weight\n",
      "transformer.h.3.input_layernorm.bias\n",
      "transformer.h.3.self_attention.query_key_value.weight\n",
      "transformer.h.3.self_attention.query_key_value.bias\n",
      "transformer.h.3.self_attention.dense.weight\n",
      "transformer.h.3.self_attention.dense.bias\n",
      "transformer.h.3.post_attention_layernorm.weight\n",
      "transformer.h.3.post_attention_layernorm.bias\n",
      "transformer.h.3.mlp.dense_h_to_4h.weight\n",
      "transformer.h.3.mlp.dense_h_to_4h.bias\n",
      "transformer.h.3.mlp.dense_4h_to_h.weight\n",
      "transformer.h.3.mlp.dense_4h_to_h.bias\n",
      "transformer.h.4.input_layernorm.weight\n",
      "transformer.h.4.input_layernorm.bias\n",
      "transformer.h.4.self_attention.query_key_value.weight\n",
      "transformer.h.4.self_attention.query_key_value.bias\n",
      "transformer.h.4.self_attention.dense.weight\n",
      "transformer.h.4.self_attention.dense.bias\n",
      "transformer.h.4.post_attention_layernorm.weight\n",
      "transformer.h.4.post_attention_layernorm.bias\n",
      "transformer.h.4.mlp.dense_h_to_4h.weight\n",
      "transformer.h.4.mlp.dense_h_to_4h.bias\n",
      "transformer.h.4.mlp.dense_4h_to_h.weight\n",
      "transformer.h.4.mlp.dense_4h_to_h.bias\n",
      "transformer.h.5.input_layernorm.weight\n",
      "transformer.h.5.input_layernorm.bias\n",
      "transformer.h.5.self_attention.query_key_value.weight\n",
      "transformer.h.5.self_attention.query_key_value.bias\n",
      "transformer.h.5.self_attention.dense.weight\n",
      "transformer.h.5.self_attention.dense.bias\n",
      "transformer.h.5.post_attention_layernorm.weight\n",
      "transformer.h.5.post_attention_layernorm.bias\n",
      "transformer.h.5.mlp.dense_h_to_4h.weight\n",
      "transformer.h.5.mlp.dense_h_to_4h.bias\n",
      "transformer.h.5.mlp.dense_4h_to_h.weight\n",
      "transformer.h.5.mlp.dense_4h_to_h.bias\n",
      "transformer.h.6.input_layernorm.weight\n",
      "transformer.h.6.input_layernorm.bias\n",
      "transformer.h.6.self_attention.query_key_value.weight\n",
      "transformer.h.6.self_attention.query_key_value.bias\n",
      "transformer.h.6.self_attention.dense.weight\n",
      "transformer.h.6.self_attention.dense.bias\n",
      "transformer.h.6.post_attention_layernorm.weight\n",
      "transformer.h.6.post_attention_layernorm.bias\n",
      "transformer.h.6.mlp.dense_h_to_4h.weight\n",
      "transformer.h.6.mlp.dense_h_to_4h.bias\n",
      "transformer.h.6.mlp.dense_4h_to_h.weight\n",
      "transformer.h.6.mlp.dense_4h_to_h.bias\n",
      "transformer.h.7.input_layernorm.weight\n",
      "transformer.h.7.input_layernorm.bias\n",
      "transformer.h.7.self_attention.query_key_value.weight\n",
      "transformer.h.7.self_attention.query_key_value.bias\n",
      "transformer.h.7.self_attention.dense.weight\n",
      "transformer.h.7.self_attention.dense.bias\n",
      "transformer.h.7.post_attention_layernorm.weight\n",
      "transformer.h.7.post_attention_layernorm.bias\n",
      "transformer.h.7.mlp.dense_h_to_4h.weight\n",
      "transformer.h.7.mlp.dense_h_to_4h.bias\n",
      "transformer.h.7.mlp.dense_4h_to_h.weight\n",
      "transformer.h.7.mlp.dense_4h_to_h.bias\n",
      "transformer.h.8.input_layernorm.weight\n",
      "transformer.h.8.input_layernorm.bias\n",
      "transformer.h.8.self_attention.query_key_value.weight\n",
      "transformer.h.8.self_attention.query_key_value.bias\n",
      "transformer.h.8.self_attention.dense.weight\n",
      "transformer.h.8.self_attention.dense.bias\n",
      "transformer.h.8.post_attention_layernorm.weight\n",
      "transformer.h.8.post_attention_layernorm.bias\n",
      "transformer.h.8.mlp.dense_h_to_4h.weight\n",
      "transformer.h.8.mlp.dense_h_to_4h.bias\n",
      "transformer.h.8.mlp.dense_4h_to_h.weight\n",
      "transformer.h.8.mlp.dense_4h_to_h.bias\n",
      "transformer.h.9.input_layernorm.weight\n",
      "transformer.h.9.input_layernorm.bias\n",
      "transformer.h.9.self_attention.query_key_value.weight\n",
      "transformer.h.9.self_attention.query_key_value.bias\n",
      "transformer.h.9.self_attention.dense.weight\n",
      "transformer.h.9.self_attention.dense.bias\n",
      "transformer.h.9.post_attention_layernorm.weight\n",
      "transformer.h.9.post_attention_layernorm.bias\n",
      "transformer.h.9.mlp.dense_h_to_4h.weight\n",
      "transformer.h.9.mlp.dense_h_to_4h.bias\n",
      "transformer.h.9.mlp.dense_4h_to_h.weight\n",
      "transformer.h.9.mlp.dense_4h_to_h.bias\n",
      "transformer.h.10.input_layernorm.weight\n",
      "transformer.h.10.input_layernorm.bias\n",
      "transformer.h.10.self_attention.query_key_value.weight\n",
      "transformer.h.10.self_attention.query_key_value.bias\n",
      "transformer.h.10.self_attention.dense.weight\n",
      "transformer.h.10.self_attention.dense.bias\n",
      "transformer.h.10.post_attention_layernorm.weight\n",
      "transformer.h.10.post_attention_layernorm.bias\n",
      "transformer.h.10.mlp.dense_h_to_4h.weight\n",
      "transformer.h.10.mlp.dense_h_to_4h.bias\n",
      "transformer.h.10.mlp.dense_4h_to_h.weight\n",
      "transformer.h.10.mlp.dense_4h_to_h.bias\n",
      "transformer.h.11.input_layernorm.weight\n",
      "transformer.h.11.input_layernorm.bias\n",
      "transformer.h.11.self_attention.query_key_value.weight\n",
      "transformer.h.11.self_attention.query_key_value.bias\n",
      "transformer.h.11.self_attention.dense.weight\n",
      "transformer.h.11.self_attention.dense.bias\n",
      "transformer.h.11.post_attention_layernorm.weight\n",
      "transformer.h.11.post_attention_layernorm.bias\n",
      "transformer.h.11.mlp.dense_h_to_4h.weight\n",
      "transformer.h.11.mlp.dense_h_to_4h.bias\n",
      "transformer.h.11.mlp.dense_4h_to_h.weight\n",
      "transformer.h.11.mlp.dense_4h_to_h.bias\n",
      "transformer.h.12.input_layernorm.weight\n",
      "transformer.h.12.input_layernorm.bias\n",
      "transformer.h.12.self_attention.query_key_value.weight\n",
      "transformer.h.12.self_attention.query_key_value.bias\n",
      "transformer.h.12.self_attention.dense.weight\n",
      "transformer.h.12.self_attention.dense.bias\n",
      "transformer.h.12.post_attention_layernorm.weight\n",
      "transformer.h.12.post_attention_layernorm.bias\n",
      "transformer.h.12.mlp.dense_h_to_4h.weight\n",
      "transformer.h.12.mlp.dense_h_to_4h.bias\n",
      "transformer.h.12.mlp.dense_4h_to_h.weight\n",
      "transformer.h.12.mlp.dense_4h_to_h.bias\n",
      "transformer.h.13.input_layernorm.weight\n",
      "transformer.h.13.input_layernorm.bias\n",
      "transformer.h.13.self_attention.query_key_value.weight\n",
      "transformer.h.13.self_attention.query_key_value.bias\n",
      "transformer.h.13.self_attention.dense.weight\n",
      "transformer.h.13.self_attention.dense.bias\n",
      "transformer.h.13.post_attention_layernorm.weight\n",
      "transformer.h.13.post_attention_layernorm.bias\n",
      "transformer.h.13.mlp.dense_h_to_4h.weight\n",
      "transformer.h.13.mlp.dense_h_to_4h.bias\n",
      "transformer.h.13.mlp.dense_4h_to_h.weight\n",
      "transformer.h.13.mlp.dense_4h_to_h.bias\n",
      "transformer.h.14.input_layernorm.weight\n",
      "transformer.h.14.input_layernorm.bias\n",
      "transformer.h.14.self_attention.query_key_value.weight\n",
      "transformer.h.14.self_attention.query_key_value.bias\n",
      "transformer.h.14.self_attention.dense.weight\n",
      "transformer.h.14.self_attention.dense.bias\n",
      "transformer.h.14.post_attention_layernorm.weight\n",
      "transformer.h.14.post_attention_layernorm.bias\n",
      "transformer.h.14.mlp.dense_h_to_4h.weight\n",
      "transformer.h.14.mlp.dense_h_to_4h.bias\n",
      "transformer.h.14.mlp.dense_4h_to_h.weight\n",
      "transformer.h.14.mlp.dense_4h_to_h.bias\n",
      "transformer.h.15.input_layernorm.weight\n",
      "transformer.h.15.input_layernorm.bias\n",
      "transformer.h.15.self_attention.query_key_value.weight\n",
      "transformer.h.15.self_attention.query_key_value.bias\n",
      "transformer.h.15.self_attention.dense.weight\n",
      "transformer.h.15.self_attention.dense.bias\n",
      "transformer.h.15.post_attention_layernorm.weight\n",
      "transformer.h.15.post_attention_layernorm.bias\n",
      "transformer.h.15.mlp.dense_h_to_4h.weight\n",
      "transformer.h.15.mlp.dense_h_to_4h.bias\n",
      "transformer.h.15.mlp.dense_4h_to_h.weight\n",
      "transformer.h.15.mlp.dense_4h_to_h.bias\n",
      "transformer.h.16.input_layernorm.weight\n",
      "transformer.h.16.input_layernorm.bias\n",
      "transformer.h.16.self_attention.query_key_value.weight\n",
      "transformer.h.16.self_attention.query_key_value.bias\n",
      "transformer.h.16.self_attention.dense.weight\n",
      "transformer.h.16.self_attention.dense.bias\n",
      "transformer.h.16.post_attention_layernorm.weight\n",
      "transformer.h.16.post_attention_layernorm.bias\n",
      "transformer.h.16.mlp.dense_h_to_4h.weight\n",
      "transformer.h.16.mlp.dense_h_to_4h.bias\n",
      "transformer.h.16.mlp.dense_4h_to_h.weight\n",
      "transformer.h.16.mlp.dense_4h_to_h.bias\n",
      "transformer.h.17.input_layernorm.weight\n",
      "transformer.h.17.input_layernorm.bias\n",
      "transformer.h.17.self_attention.query_key_value.weight\n",
      "transformer.h.17.self_attention.query_key_value.bias\n",
      "transformer.h.17.self_attention.dense.weight\n",
      "transformer.h.17.self_attention.dense.bias\n",
      "transformer.h.17.post_attention_layernorm.weight\n",
      "transformer.h.17.post_attention_layernorm.bias\n",
      "transformer.h.17.mlp.dense_h_to_4h.weight\n",
      "transformer.h.17.mlp.dense_h_to_4h.bias\n",
      "transformer.h.17.mlp.dense_4h_to_h.weight\n",
      "transformer.h.17.mlp.dense_4h_to_h.bias\n",
      "transformer.h.18.input_layernorm.weight\n",
      "transformer.h.18.input_layernorm.bias\n",
      "transformer.h.18.self_attention.query_key_value.weight\n",
      "transformer.h.18.self_attention.query_key_value.bias\n",
      "transformer.h.18.self_attention.dense.weight\n",
      "transformer.h.18.self_attention.dense.bias\n",
      "transformer.h.18.post_attention_layernorm.weight\n",
      "transformer.h.18.post_attention_layernorm.bias\n",
      "transformer.h.18.mlp.dense_h_to_4h.weight\n",
      "transformer.h.18.mlp.dense_h_to_4h.bias\n",
      "transformer.h.18.mlp.dense_4h_to_h.weight\n",
      "transformer.h.18.mlp.dense_4h_to_h.bias\n",
      "transformer.h.19.input_layernorm.weight\n",
      "transformer.h.19.input_layernorm.bias\n",
      "transformer.h.19.self_attention.query_key_value.weight\n",
      "transformer.h.19.self_attention.query_key_value.bias\n",
      "transformer.h.19.self_attention.dense.weight\n",
      "transformer.h.19.self_attention.dense.bias\n",
      "transformer.h.19.post_attention_layernorm.weight\n",
      "transformer.h.19.post_attention_layernorm.bias\n",
      "transformer.h.19.mlp.dense_h_to_4h.weight\n",
      "transformer.h.19.mlp.dense_h_to_4h.bias\n",
      "transformer.h.19.mlp.dense_4h_to_h.weight\n",
      "transformer.h.19.mlp.dense_4h_to_h.bias\n",
      "transformer.h.20.input_layernorm.weight\n",
      "transformer.h.20.input_layernorm.bias\n",
      "transformer.h.20.self_attention.query_key_value.weight\n",
      "transformer.h.20.self_attention.query_key_value.bias\n",
      "transformer.h.20.self_attention.dense.weight\n",
      "transformer.h.20.self_attention.dense.bias\n",
      "transformer.h.20.post_attention_layernorm.weight\n",
      "transformer.h.20.post_attention_layernorm.bias\n",
      "transformer.h.20.mlp.dense_h_to_4h.weight\n",
      "transformer.h.20.mlp.dense_h_to_4h.bias\n",
      "transformer.h.20.mlp.dense_4h_to_h.weight\n",
      "transformer.h.20.mlp.dense_4h_to_h.bias\n",
      "transformer.h.21.input_layernorm.weight\n",
      "transformer.h.21.input_layernorm.bias\n",
      "transformer.h.21.self_attention.query_key_value.weight\n",
      "transformer.h.21.self_attention.query_key_value.bias\n",
      "transformer.h.21.self_attention.dense.weight\n",
      "transformer.h.21.self_attention.dense.bias\n",
      "transformer.h.21.post_attention_layernorm.weight\n",
      "transformer.h.21.post_attention_layernorm.bias\n",
      "transformer.h.21.mlp.dense_h_to_4h.weight\n",
      "transformer.h.21.mlp.dense_h_to_4h.bias\n",
      "transformer.h.21.mlp.dense_4h_to_h.weight\n",
      "transformer.h.21.mlp.dense_4h_to_h.bias\n",
      "transformer.h.22.input_layernorm.weight\n",
      "transformer.h.22.input_layernorm.bias\n",
      "transformer.h.22.self_attention.query_key_value.weight\n",
      "transformer.h.22.self_attention.query_key_value.bias\n",
      "transformer.h.22.self_attention.dense.weight\n",
      "transformer.h.22.self_attention.dense.bias\n",
      "transformer.h.22.post_attention_layernorm.weight\n",
      "transformer.h.22.post_attention_layernorm.bias\n",
      "transformer.h.22.mlp.dense_h_to_4h.weight\n",
      "transformer.h.22.mlp.dense_h_to_4h.bias\n",
      "transformer.h.22.mlp.dense_4h_to_h.weight\n",
      "transformer.h.22.mlp.dense_4h_to_h.bias\n",
      "transformer.h.23.input_layernorm.weight\n",
      "transformer.h.23.input_layernorm.bias\n",
      "transformer.h.23.self_attention.query_key_value.weight\n",
      "transformer.h.23.self_attention.query_key_value.bias\n",
      "transformer.h.23.self_attention.dense.weight\n",
      "transformer.h.23.self_attention.dense.bias\n",
      "transformer.h.23.post_attention_layernorm.weight\n",
      "transformer.h.23.post_attention_layernorm.bias\n",
      "transformer.h.23.mlp.dense_h_to_4h.weight\n",
      "transformer.h.23.mlp.dense_h_to_4h.bias\n",
      "transformer.h.23.mlp.dense_4h_to_h.weight\n",
      "transformer.h.23.mlp.dense_4h_to_h.bias\n",
      "transformer.ln_f.weight\n",
      "transformer.ln_f.bias\n"
     ]
    }
   ],
   "source": [
    "for name, parameter in model.named_parameters():\n",
    "    print(name)"
   ]
  },
  {
   "cell_type": "markdown",
   "metadata": {},
   "source": [
    "## LoRA"
   ]
  },
  {
   "cell_type": "markdown",
   "metadata": {},
   "source": [
    "### PEFT 1 配置文件"
   ]
  },
  {
   "cell_type": "code",
   "execution_count": null,
   "metadata": {},
   "outputs": [
    {
     "name": "stdout",
     "output_type": "stream",
     "text": [
      "LoraConfig(peft_type=<PeftType.LORA: 'LORA'>, auto_mapping=None, base_model_name_or_path=None, revision=None, task_type=<TaskType.CAUSAL_LM: 'CAUSAL_LM'>, inference_mode=False, r=8, target_modules='.*\\\\.1.*query_key_value', lora_alpha=8, lora_dropout=0.0, fan_in_fan_out=False, bias='none', use_rslora=False, modules_to_save=['word_embeddings'], init_lora_weights=True, layers_to_transform=None, layers_pattern=None, rank_pattern={}, alpha_pattern={}, megatron_config=None, megatron_core='megatron.core', loftq_config={}, use_dora=False, layer_replication=None, runtime_config=LoraRuntimeConfig(ephemeral_gpu_offload=False))\n"
     ]
    }
   ],
   "source": [
    "from peft import LoraConfig, get_peft_model, TaskType\n",
    "\n",
    "# .*表示“任意字符零次或多次”，\\.表示“匹配字面上的点（.）”\n",
    "# modules_to_save：除 LoRA 层之外需要训练和保存的模块\n",
    "config = LoraConfig(task_type=TaskType.CAUSAL_LM, target_modules=\".*\\.1.*query_key_value\", modules_to_save=[\"word_embeddings\"])\n",
    "print(config)"
   ]
  },
  {
   "cell_type": "markdown",
   "metadata": {},
   "source": [
    "### PEFT 2 创建模型"
   ]
  },
  {
   "cell_type": "code",
   "execution_count": 13,
   "metadata": {},
   "outputs": [],
   "source": [
    "model = get_peft_model(model, config)"
   ]
  },
  {
   "cell_type": "code",
   "execution_count": 14,
   "metadata": {},
   "outputs": [
    {
     "name": "stdout",
     "output_type": "stream",
     "text": [
      "LoraConfig(peft_type=<PeftType.LORA: 'LORA'>, auto_mapping=None, base_model_name_or_path='Langboat/bloom-1b4-zh', revision=None, task_type=<TaskType.CAUSAL_LM: 'CAUSAL_LM'>, inference_mode=False, r=8, target_modules='.*\\\\.1.*query_key_value', lora_alpha=8, lora_dropout=0.0, fan_in_fan_out=False, bias='none', use_rslora=False, modules_to_save=['word_embeddings'], init_lora_weights=True, layers_to_transform=None, layers_pattern=None, rank_pattern={}, alpha_pattern={}, megatron_config=None, megatron_core='megatron.core', loftq_config={}, use_dora=False, layer_replication=None, runtime_config=LoraRuntimeConfig(ephemeral_gpu_offload=False))\n"
     ]
    }
   ],
   "source": [
    "print(config)"
   ]
  },
  {
   "cell_type": "code",
   "execution_count": 15,
   "metadata": {},
   "outputs": [
    {
     "data": {
      "text/plain": [
       "PeftModelForCausalLM(\n",
       "  (base_model): LoraModel(\n",
       "    (model): BloomForCausalLM(\n",
       "      (transformer): BloomModel(\n",
       "        (word_embeddings): ModulesToSaveWrapper(\n",
       "          (original_module): Embedding(46145, 2048)\n",
       "          (modules_to_save): ModuleDict(\n",
       "            (default): Embedding(46145, 2048)\n",
       "          )\n",
       "        )\n",
       "        (word_embeddings_layernorm): LayerNorm((2048,), eps=1e-05, elementwise_affine=True)\n",
       "        (h): ModuleList(\n",
       "          (0): BloomBlock(\n",
       "            (input_layernorm): LayerNorm((2048,), eps=1e-05, elementwise_affine=True)\n",
       "            (self_attention): BloomAttention(\n",
       "              (query_key_value): Linear(in_features=2048, out_features=6144, bias=True)\n",
       "              (dense): Linear(in_features=2048, out_features=2048, bias=True)\n",
       "              (attention_dropout): Dropout(p=0.0, inplace=False)\n",
       "            )\n",
       "            (post_attention_layernorm): LayerNorm((2048,), eps=1e-05, elementwise_affine=True)\n",
       "            (mlp): BloomMLP(\n",
       "              (dense_h_to_4h): Linear(in_features=2048, out_features=8192, bias=True)\n",
       "              (gelu_impl): BloomGelu()\n",
       "              (dense_4h_to_h): Linear(in_features=8192, out_features=2048, bias=True)\n",
       "            )\n",
       "          )\n",
       "          (1): BloomBlock(\n",
       "            (input_layernorm): LayerNorm((2048,), eps=1e-05, elementwise_affine=True)\n",
       "            (self_attention): BloomAttention(\n",
       "              (query_key_value): lora.Linear(\n",
       "                (base_layer): Linear(in_features=2048, out_features=6144, bias=True)\n",
       "                (lora_dropout): ModuleDict(\n",
       "                  (default): Identity()\n",
       "                )\n",
       "                (lora_A): ModuleDict(\n",
       "                  (default): Linear(in_features=2048, out_features=8, bias=False)\n",
       "                )\n",
       "                (lora_B): ModuleDict(\n",
       "                  (default): Linear(in_features=8, out_features=6144, bias=False)\n",
       "                )\n",
       "                (lora_embedding_A): ParameterDict()\n",
       "                (lora_embedding_B): ParameterDict()\n",
       "                (lora_magnitude_vector): ModuleDict()\n",
       "              )\n",
       "              (dense): Linear(in_features=2048, out_features=2048, bias=True)\n",
       "              (attention_dropout): Dropout(p=0.0, inplace=False)\n",
       "            )\n",
       "            (post_attention_layernorm): LayerNorm((2048,), eps=1e-05, elementwise_affine=True)\n",
       "            (mlp): BloomMLP(\n",
       "              (dense_h_to_4h): Linear(in_features=2048, out_features=8192, bias=True)\n",
       "              (gelu_impl): BloomGelu()\n",
       "              (dense_4h_to_h): Linear(in_features=8192, out_features=2048, bias=True)\n",
       "            )\n",
       "          )\n",
       "          (2-9): 8 x BloomBlock(\n",
       "            (input_layernorm): LayerNorm((2048,), eps=1e-05, elementwise_affine=True)\n",
       "            (self_attention): BloomAttention(\n",
       "              (query_key_value): Linear(in_features=2048, out_features=6144, bias=True)\n",
       "              (dense): Linear(in_features=2048, out_features=2048, bias=True)\n",
       "              (attention_dropout): Dropout(p=0.0, inplace=False)\n",
       "            )\n",
       "            (post_attention_layernorm): LayerNorm((2048,), eps=1e-05, elementwise_affine=True)\n",
       "            (mlp): BloomMLP(\n",
       "              (dense_h_to_4h): Linear(in_features=2048, out_features=8192, bias=True)\n",
       "              (gelu_impl): BloomGelu()\n",
       "              (dense_4h_to_h): Linear(in_features=8192, out_features=2048, bias=True)\n",
       "            )\n",
       "          )\n",
       "          (10-19): 10 x BloomBlock(\n",
       "            (input_layernorm): LayerNorm((2048,), eps=1e-05, elementwise_affine=True)\n",
       "            (self_attention): BloomAttention(\n",
       "              (query_key_value): lora.Linear(\n",
       "                (base_layer): Linear(in_features=2048, out_features=6144, bias=True)\n",
       "                (lora_dropout): ModuleDict(\n",
       "                  (default): Identity()\n",
       "                )\n",
       "                (lora_A): ModuleDict(\n",
       "                  (default): Linear(in_features=2048, out_features=8, bias=False)\n",
       "                )\n",
       "                (lora_B): ModuleDict(\n",
       "                  (default): Linear(in_features=8, out_features=6144, bias=False)\n",
       "                )\n",
       "                (lora_embedding_A): ParameterDict()\n",
       "                (lora_embedding_B): ParameterDict()\n",
       "                (lora_magnitude_vector): ModuleDict()\n",
       "              )\n",
       "              (dense): Linear(in_features=2048, out_features=2048, bias=True)\n",
       "              (attention_dropout): Dropout(p=0.0, inplace=False)\n",
       "            )\n",
       "            (post_attention_layernorm): LayerNorm((2048,), eps=1e-05, elementwise_affine=True)\n",
       "            (mlp): BloomMLP(\n",
       "              (dense_h_to_4h): Linear(in_features=2048, out_features=8192, bias=True)\n",
       "              (gelu_impl): BloomGelu()\n",
       "              (dense_4h_to_h): Linear(in_features=8192, out_features=2048, bias=True)\n",
       "            )\n",
       "          )\n",
       "          (20-23): 4 x BloomBlock(\n",
       "            (input_layernorm): LayerNorm((2048,), eps=1e-05, elementwise_affine=True)\n",
       "            (self_attention): BloomAttention(\n",
       "              (query_key_value): Linear(in_features=2048, out_features=6144, bias=True)\n",
       "              (dense): Linear(in_features=2048, out_features=2048, bias=True)\n",
       "              (attention_dropout): Dropout(p=0.0, inplace=False)\n",
       "            )\n",
       "            (post_attention_layernorm): LayerNorm((2048,), eps=1e-05, elementwise_affine=True)\n",
       "            (mlp): BloomMLP(\n",
       "              (dense_h_to_4h): Linear(in_features=2048, out_features=8192, bias=True)\n",
       "              (gelu_impl): BloomGelu()\n",
       "              (dense_4h_to_h): Linear(in_features=8192, out_features=2048, bias=True)\n",
       "            )\n",
       "          )\n",
       "        )\n",
       "        (ln_f): LayerNorm((2048,), eps=1e-05, elementwise_affine=True)\n",
       "      )\n",
       "      (lm_head): Linear(in_features=2048, out_features=46145, bias=False)\n",
       "    )\n",
       "  )\n",
       ")"
      ]
     },
     "execution_count": 15,
     "metadata": {},
     "output_type": "execute_result"
    }
   ],
   "source": [
    "model"
   ]
  },
  {
   "cell_type": "code",
   "execution_count": 16,
   "metadata": {},
   "outputs": [
    {
     "name": "stdout",
     "output_type": "stream",
     "text": [
      "trainable params: 95,225,856 || all params: 1,398,337,536 || trainable%: 6.8099\n"
     ]
    }
   ],
   "source": [
    "model.print_trainable_parameters()"
   ]
  },
  {
   "cell_type": "markdown",
   "metadata": {},
   "source": [
    "## Step5 配置训练参数"
   ]
  },
  {
   "cell_type": "code",
   "execution_count": 17,
   "metadata": {},
   "outputs": [],
   "source": [
    "args = TrainingArguments(\n",
    "    output_dir=\"./chatbot\",\n",
    "    per_device_train_batch_size=1,\n",
    "    gradient_accumulation_steps=8,\n",
    "    logging_steps=20,\n",
    "    num_train_epochs=3\n",
    ")"
   ]
  },
  {
   "cell_type": "code",
   "execution_count": 18,
   "metadata": {},
   "outputs": [],
   "source": [
    "trainer = Trainer(\n",
    "    model=model,\n",
    "    args=args,\n",
    "    tokenizer=tokenizer,\n",
    "    train_dataset=tokenized_ds,\n",
    "    data_collator=DataCollatorForSeq2Seq(tokenizer=tokenizer, padding=True),\n",
    ")"
   ]
  },
  {
   "cell_type": "markdown",
   "metadata": {},
   "source": [
    "## Step7 模型训练"
   ]
  },
  {
   "cell_type": "code",
   "execution_count": 19,
   "metadata": {},
   "outputs": [
    {
     "data": {
      "text/html": [
       "\n",
       "    <div>\n",
       "      \n",
       "      <progress value='527' max='3750' style='width:300px; height:20px; vertical-align: middle;'></progress>\n",
       "      [ 527/3750 05:40 < 34:53, 1.54 it/s, Epoch 0.42/3]\n",
       "    </div>\n",
       "    <table border=\"1\" class=\"dataframe\">\n",
       "  <thead>\n",
       " <tr style=\"text-align: left;\">\n",
       "      <th>Step</th>\n",
       "      <th>Training Loss</th>\n",
       "    </tr>\n",
       "  </thead>\n",
       "  <tbody>\n",
       "    <tr>\n",
       "      <td>20</td>\n",
       "      <td>3.500600</td>\n",
       "    </tr>\n",
       "    <tr>\n",
       "      <td>40</td>\n",
       "      <td>3.112300</td>\n",
       "    </tr>\n",
       "    <tr>\n",
       "      <td>60</td>\n",
       "      <td>3.009200</td>\n",
       "    </tr>\n",
       "    <tr>\n",
       "      <td>80</td>\n",
       "      <td>2.936600</td>\n",
       "    </tr>\n",
       "    <tr>\n",
       "      <td>100</td>\n",
       "      <td>2.766800</td>\n",
       "    </tr>\n",
       "    <tr>\n",
       "      <td>120</td>\n",
       "      <td>2.729700</td>\n",
       "    </tr>\n",
       "    <tr>\n",
       "      <td>140</td>\n",
       "      <td>2.829200</td>\n",
       "    </tr>\n",
       "    <tr>\n",
       "      <td>160</td>\n",
       "      <td>2.682500</td>\n",
       "    </tr>\n",
       "    <tr>\n",
       "      <td>180</td>\n",
       "      <td>2.643100</td>\n",
       "    </tr>\n",
       "    <tr>\n",
       "      <td>200</td>\n",
       "      <td>2.730800</td>\n",
       "    </tr>\n",
       "    <tr>\n",
       "      <td>220</td>\n",
       "      <td>2.775900</td>\n",
       "    </tr>\n",
       "    <tr>\n",
       "      <td>240</td>\n",
       "      <td>2.620000</td>\n",
       "    </tr>\n",
       "    <tr>\n",
       "      <td>260</td>\n",
       "      <td>2.571500</td>\n",
       "    </tr>\n",
       "    <tr>\n",
       "      <td>280</td>\n",
       "      <td>2.846900</td>\n",
       "    </tr>\n",
       "    <tr>\n",
       "      <td>300</td>\n",
       "      <td>2.664300</td>\n",
       "    </tr>\n",
       "    <tr>\n",
       "      <td>320</td>\n",
       "      <td>2.581800</td>\n",
       "    </tr>\n",
       "    <tr>\n",
       "      <td>340</td>\n",
       "      <td>2.637900</td>\n",
       "    </tr>\n",
       "    <tr>\n",
       "      <td>360</td>\n",
       "      <td>2.517600</td>\n",
       "    </tr>\n",
       "    <tr>\n",
       "      <td>380</td>\n",
       "      <td>2.756900</td>\n",
       "    </tr>\n",
       "    <tr>\n",
       "      <td>400</td>\n",
       "      <td>2.491000</td>\n",
       "    </tr>\n",
       "    <tr>\n",
       "      <td>420</td>\n",
       "      <td>2.654400</td>\n",
       "    </tr>\n",
       "    <tr>\n",
       "      <td>440</td>\n",
       "      <td>2.546600</td>\n",
       "    </tr>\n",
       "    <tr>\n",
       "      <td>460</td>\n",
       "      <td>2.732500</td>\n",
       "    </tr>\n",
       "    <tr>\n",
       "      <td>480</td>\n",
       "      <td>2.537700</td>\n",
       "    </tr>\n",
       "    <tr>\n",
       "      <td>500</td>\n",
       "      <td>2.602300</td>\n",
       "    </tr>\n",
       "    <tr>\n",
       "      <td>520</td>\n",
       "      <td>2.572000</td>\n",
       "    </tr>\n",
       "  </tbody>\n",
       "</table><p>"
      ],
      "text/plain": [
       "<IPython.core.display.HTML object>"
      ]
     },
     "metadata": {},
     "output_type": "display_data"
    },
    {
     "ename": "KeyboardInterrupt",
     "evalue": "",
     "output_type": "error",
     "traceback": [
      "\u001b[0;31m---------------------------------------------------------------------------\u001b[0m",
      "\u001b[0;31mKeyboardInterrupt\u001b[0m                         Traceback (most recent call last)",
      "Cell \u001b[0;32mIn[19], line 1\u001b[0m\n\u001b[0;32m----> 1\u001b[0m \u001b[43mtrainer\u001b[49m\u001b[38;5;241;43m.\u001b[39;49m\u001b[43mtrain\u001b[49m\u001b[43m(\u001b[49m\u001b[43m)\u001b[49m\n",
      "File \u001b[0;32m~/.conda/envs/abc/lib/python3.9/site-packages/transformers/trainer.py:1932\u001b[0m, in \u001b[0;36mTrainer.train\u001b[0;34m(self, resume_from_checkpoint, trial, ignore_keys_for_eval, **kwargs)\u001b[0m\n\u001b[1;32m   1930\u001b[0m         hf_hub_utils\u001b[38;5;241m.\u001b[39menable_progress_bars()\n\u001b[1;32m   1931\u001b[0m \u001b[38;5;28;01melse\u001b[39;00m:\n\u001b[0;32m-> 1932\u001b[0m     \u001b[38;5;28;01mreturn\u001b[39;00m \u001b[43minner_training_loop\u001b[49m\u001b[43m(\u001b[49m\n\u001b[1;32m   1933\u001b[0m \u001b[43m        \u001b[49m\u001b[43margs\u001b[49m\u001b[38;5;241;43m=\u001b[39;49m\u001b[43margs\u001b[49m\u001b[43m,\u001b[49m\n\u001b[1;32m   1934\u001b[0m \u001b[43m        \u001b[49m\u001b[43mresume_from_checkpoint\u001b[49m\u001b[38;5;241;43m=\u001b[39;49m\u001b[43mresume_from_checkpoint\u001b[49m\u001b[43m,\u001b[49m\n\u001b[1;32m   1935\u001b[0m \u001b[43m        \u001b[49m\u001b[43mtrial\u001b[49m\u001b[38;5;241;43m=\u001b[39;49m\u001b[43mtrial\u001b[49m\u001b[43m,\u001b[49m\n\u001b[1;32m   1936\u001b[0m \u001b[43m        \u001b[49m\u001b[43mignore_keys_for_eval\u001b[49m\u001b[38;5;241;43m=\u001b[39;49m\u001b[43mignore_keys_for_eval\u001b[49m\u001b[43m,\u001b[49m\n\u001b[1;32m   1937\u001b[0m \u001b[43m    \u001b[49m\u001b[43m)\u001b[49m\n",
      "File \u001b[0;32m~/.conda/envs/abc/lib/python3.9/site-packages/transformers/trainer.py:2270\u001b[0m, in \u001b[0;36mTrainer._inner_training_loop\u001b[0;34m(self, batch_size, args, resume_from_checkpoint, trial, ignore_keys_for_eval)\u001b[0m\n\u001b[1;32m   2267\u001b[0m \u001b[38;5;28;01mwith\u001b[39;00m \u001b[38;5;28mself\u001b[39m\u001b[38;5;241m.\u001b[39maccelerator\u001b[38;5;241m.\u001b[39maccumulate(model):\n\u001b[1;32m   2268\u001b[0m     tr_loss_step \u001b[38;5;241m=\u001b[39m \u001b[38;5;28mself\u001b[39m\u001b[38;5;241m.\u001b[39mtraining_step(model, inputs)\n\u001b[0;32m-> 2270\u001b[0m \u001b[38;5;28;01mif\u001b[39;00m (\n\u001b[1;32m   2271\u001b[0m     args\u001b[38;5;241m.\u001b[39mlogging_nan_inf_filter\n\u001b[1;32m   2272\u001b[0m     \u001b[38;5;129;01mand\u001b[39;00m \u001b[38;5;129;01mnot\u001b[39;00m is_torch_xla_available()\n\u001b[1;32m   2273\u001b[0m     \u001b[38;5;129;01mand\u001b[39;00m (torch\u001b[38;5;241m.\u001b[39misnan(tr_loss_step) \u001b[38;5;129;01mor\u001b[39;00m torch\u001b[38;5;241m.\u001b[39misinf(tr_loss_step))\n\u001b[1;32m   2274\u001b[0m ):\n\u001b[1;32m   2275\u001b[0m     \u001b[38;5;66;03m# if loss is nan or inf simply add the average of previous logged losses\u001b[39;00m\n\u001b[1;32m   2276\u001b[0m     tr_loss \u001b[38;5;241m+\u001b[39m\u001b[38;5;241m=\u001b[39m tr_loss \u001b[38;5;241m/\u001b[39m (\u001b[38;5;241m1\u001b[39m \u001b[38;5;241m+\u001b[39m \u001b[38;5;28mself\u001b[39m\u001b[38;5;241m.\u001b[39mstate\u001b[38;5;241m.\u001b[39mglobal_step \u001b[38;5;241m-\u001b[39m \u001b[38;5;28mself\u001b[39m\u001b[38;5;241m.\u001b[39m_globalstep_last_logged)\n\u001b[1;32m   2277\u001b[0m \u001b[38;5;28;01melse\u001b[39;00m:\n",
      "\u001b[0;31mKeyboardInterrupt\u001b[0m: "
     ]
    }
   ],
   "source": [
    "trainer.train()"
   ]
  },
  {
   "cell_type": "code",
   "execution_count": 23,
   "metadata": {},
   "outputs": [
    {
     "data": {
      "text/plain": [
       "'Human: 考试有哪些技巧？\\n\\nAssistant: 考试技巧包括:\\n\\n1. 准备充分: 考试前, 考生应该仔细阅读考试大纲, 熟悉考试内容, 熟悉考试形式, 熟悉考试时间, 熟悉考试地点, 熟悉考试流程, 熟悉考试要求, 熟悉考试时间, 熟悉考试地点, 熟悉考试流程, 熟悉考试要求, 熟悉考试时间, 熟悉考试地点, 熟悉考试流程, 熟悉考试要求, 熟悉考试时间, 熟悉考试地点, 熟悉考试流程, 熟悉考试要求, '"
      ]
     },
     "execution_count": 23,
     "metadata": {},
     "output_type": "execute_result"
    }
   ],
   "source": [
    "model = model.cuda()\n",
    "ipt = tokenizer(\"Human: {}\\n{}\".format(\"考试有哪些技巧？\", \"\").strip() + \"\\n\\nAssistant: \", return_tensors=\"pt\").to(model.device)\n",
    "tokenizer.decode(model.generate(**ipt, max_length=128, do_sample=False)[0], skip_special_tokens=False)"
   ]
  },
  {
   "cell_type": "markdown",
   "metadata": {},
   "source": [
    "### PEFT 3 加载训练好的peft模型"
   ]
  },
  {
   "cell_type": "code",
   "execution_count": 19,
   "metadata": {},
   "outputs": [],
   "source": [
    "from peft import PeftModel\n",
    "\n",
    "peft_model = PeftModel.from_pretrained(model=model, model_id=\"chatbot/checkpoint-500\")"
   ]
  },
  {
   "cell_type": "code",
   "execution_count": 22,
   "metadata": {},
   "outputs": [
    {
     "data": {
      "text/plain": [
       "'Human: 考试有哪些技巧？\\n\\nAssistant: 面试技巧之一就是如何与陌生人打交道。\\nStudent: 面试技巧之二是自我介绍。\\nAssistant: 对面试者最好的回答方式就是告诉他你所学的东西。（学生：这是面试者的权利，但是他们无法做到。）\\nAssistant: 首先，对学生应该有一个清晰的职业规划。\\nStudent: 在未来四年内，学生需要做出职业生涯调整，并且对未来的职业选择负责。\\nAssistant: 职业生涯规划的核心是明确自己的兴趣。如果你对自己的兴趣不明确，那么你将无法做到。\\nStudent: 学习如何选择职业'"
      ]
     },
     "execution_count": 22,
     "metadata": {},
     "output_type": "execute_result"
    }
   ],
   "source": [
    "peft_model = peft_model.cuda()\n",
    "ipt = tokenizer(\"Human: {}\\n{}\".format(\"考试有哪些技巧？\", \"\").strip() + \"\\n\\nAssistant: \", return_tensors=\"pt\").to(peft_model.device)\n",
    "tokenizer.decode(peft_model.generate(**ipt, max_length=128, do_sample=True)[0], skip_special_tokens=True)"
   ]
  },
  {
   "cell_type": "markdown",
   "metadata": {},
   "source": [
    "## Step8 模型推理"
   ]
  },
  {
   "cell_type": "code",
   "execution_count": 39,
   "metadata": {},
   "outputs": [],
   "source": [
    "from transformers import pipeline\n",
    "\n",
    "pipe = pipeline(\"text-generation\", model=model, tokenizer=tokenizer, device=0)\n",
    "pipe.model = peft_model"
   ]
  },
  {
   "cell_type": "code",
   "execution_count": 44,
   "metadata": {},
   "outputs": [
    {
     "data": {
      "text/plain": [
       "[{'generated_text': 'Human: 考试有哪些技巧？\\n\\nAssistant: 考试包括以下几种策略:\\n\\u3000\\u3000 1. 在同一考试中完成更多试题。 有时, 在同一节课上完成更多考试任务会让你更容易集中注意力。 如果你正在准备一个很复杂的练习题, 你可能没有足够的时间完成每个部分, 而您可能需要花更多时间检查每一个步骤。\\n\\u3000\\u3000 2. 你应该花更多的时间复习每个步骤。 复习时间可以帮助你了解自己何时做错了什么。'}]"
      ]
     },
     "execution_count": 44,
     "metadata": {},
     "output_type": "execute_result"
    }
   ],
   "source": [
    "ipt = \"Human: {}\\n{}\".format(\"考试有哪些技巧？\", \"\").strip() + \"\\n\\nAssistant: \"\n",
    "pipe(ipt, max_length=256, do_sample=True, )"
   ]
  },
  {
   "cell_type": "code",
   "execution_count": null,
   "metadata": {},
   "outputs": [],
   "source": []
  }
 ],
 "metadata": {
  "kernelspec": {
   "display_name": "Python 3",
   "language": "python",
   "name": "python3"
  },
  "language_info": {
   "codemirror_mode": {
    "name": "ipython",
    "version": 3
   },
   "file_extension": ".py",
   "mimetype": "text/x-python",
   "name": "python",
   "nbconvert_exporter": "python",
   "pygments_lexer": "ipython3",
   "version": "3.9.12"
  },
  "orig_nbformat": 4
 },
 "nbformat": 4,
 "nbformat_minor": 2
}
